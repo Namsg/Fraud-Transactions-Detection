{
 "cells": [
  {
   "cell_type": "markdown",
   "metadata": {},
   "source": [
    "  #         Fraudulent Transactions Predictions"
   ]
  },
  {
   "cell_type": "code",
   "execution_count": 1,
   "metadata": {},
   "outputs": [],
   "source": [
    "import pandas as pd\n",
    "import numpy as np"
   ]
  },
  {
   "cell_type": "code",
   "execution_count": 2,
   "metadata": {},
   "outputs": [],
   "source": [
    "ng=pd.read_csv(\"Fraud.csv\")"
   ]
  },
  {
   "cell_type": "code",
   "execution_count": 3,
   "metadata": {},
   "outputs": [
    {
     "data": {
      "text/html": [
       "<div>\n",
       "<style scoped>\n",
       "    .dataframe tbody tr th:only-of-type {\n",
       "        vertical-align: middle;\n",
       "    }\n",
       "\n",
       "    .dataframe tbody tr th {\n",
       "        vertical-align: top;\n",
       "    }\n",
       "\n",
       "    .dataframe thead th {\n",
       "        text-align: right;\n",
       "    }\n",
       "</style>\n",
       "<table border=\"1\" class=\"dataframe\">\n",
       "  <thead>\n",
       "    <tr style=\"text-align: right;\">\n",
       "      <th></th>\n",
       "      <th>step</th>\n",
       "      <th>type</th>\n",
       "      <th>amount</th>\n",
       "      <th>nameOrig</th>\n",
       "      <th>oldbalanceOrg</th>\n",
       "      <th>newbalanceOrig</th>\n",
       "      <th>nameDest</th>\n",
       "      <th>oldbalanceDest</th>\n",
       "      <th>newbalanceDest</th>\n",
       "      <th>isFraud</th>\n",
       "      <th>isFlaggedFraud</th>\n",
       "    </tr>\n",
       "  </thead>\n",
       "  <tbody>\n",
       "    <tr>\n",
       "      <th>0</th>\n",
       "      <td>1</td>\n",
       "      <td>PAYMENT</td>\n",
       "      <td>9839.64</td>\n",
       "      <td>C1231006815</td>\n",
       "      <td>170136.0</td>\n",
       "      <td>160296.36</td>\n",
       "      <td>M1979787155</td>\n",
       "      <td>0.0</td>\n",
       "      <td>0.0</td>\n",
       "      <td>0</td>\n",
       "      <td>0</td>\n",
       "    </tr>\n",
       "    <tr>\n",
       "      <th>1</th>\n",
       "      <td>1</td>\n",
       "      <td>PAYMENT</td>\n",
       "      <td>1864.28</td>\n",
       "      <td>C1666544295</td>\n",
       "      <td>21249.0</td>\n",
       "      <td>19384.72</td>\n",
       "      <td>M2044282225</td>\n",
       "      <td>0.0</td>\n",
       "      <td>0.0</td>\n",
       "      <td>0</td>\n",
       "      <td>0</td>\n",
       "    </tr>\n",
       "    <tr>\n",
       "      <th>2</th>\n",
       "      <td>1</td>\n",
       "      <td>TRANSFER</td>\n",
       "      <td>181.00</td>\n",
       "      <td>C1305486145</td>\n",
       "      <td>181.0</td>\n",
       "      <td>0.00</td>\n",
       "      <td>C553264065</td>\n",
       "      <td>0.0</td>\n",
       "      <td>0.0</td>\n",
       "      <td>1</td>\n",
       "      <td>0</td>\n",
       "    </tr>\n",
       "    <tr>\n",
       "      <th>3</th>\n",
       "      <td>1</td>\n",
       "      <td>CASH_OUT</td>\n",
       "      <td>181.00</td>\n",
       "      <td>C840083671</td>\n",
       "      <td>181.0</td>\n",
       "      <td>0.00</td>\n",
       "      <td>C38997010</td>\n",
       "      <td>21182.0</td>\n",
       "      <td>0.0</td>\n",
       "      <td>1</td>\n",
       "      <td>0</td>\n",
       "    </tr>\n",
       "    <tr>\n",
       "      <th>4</th>\n",
       "      <td>1</td>\n",
       "      <td>PAYMENT</td>\n",
       "      <td>11668.14</td>\n",
       "      <td>C2048537720</td>\n",
       "      <td>41554.0</td>\n",
       "      <td>29885.86</td>\n",
       "      <td>M1230701703</td>\n",
       "      <td>0.0</td>\n",
       "      <td>0.0</td>\n",
       "      <td>0</td>\n",
       "      <td>0</td>\n",
       "    </tr>\n",
       "  </tbody>\n",
       "</table>\n",
       "</div>"
      ],
      "text/plain": [
       "   step      type    amount     nameOrig  oldbalanceOrg  newbalanceOrig  \\\n",
       "0     1   PAYMENT   9839.64  C1231006815       170136.0       160296.36   \n",
       "1     1   PAYMENT   1864.28  C1666544295        21249.0        19384.72   \n",
       "2     1  TRANSFER    181.00  C1305486145          181.0            0.00   \n",
       "3     1  CASH_OUT    181.00   C840083671          181.0            0.00   \n",
       "4     1   PAYMENT  11668.14  C2048537720        41554.0        29885.86   \n",
       "\n",
       "      nameDest  oldbalanceDest  newbalanceDest  isFraud  isFlaggedFraud  \n",
       "0  M1979787155             0.0             0.0        0               0  \n",
       "1  M2044282225             0.0             0.0        0               0  \n",
       "2   C553264065             0.0             0.0        1               0  \n",
       "3    C38997010         21182.0             0.0        1               0  \n",
       "4  M1230701703             0.0             0.0        0               0  "
      ]
     },
     "execution_count": 3,
     "metadata": {},
     "output_type": "execute_result"
    }
   ],
   "source": [
    "ng.head()"
   ]
  },
  {
   "cell_type": "code",
   "execution_count": 4,
   "metadata": {},
   "outputs": [
    {
     "data": {
      "text/plain": [
       "(6362620, 11)"
      ]
     },
     "execution_count": 4,
     "metadata": {},
     "output_type": "execute_result"
    }
   ],
   "source": [
    "ng.shape"
   ]
  },
  {
   "cell_type": "code",
   "execution_count": 5,
   "metadata": {},
   "outputs": [
    {
     "name": "stdout",
     "output_type": "stream",
     "text": [
      "<class 'pandas.core.frame.DataFrame'>\n",
      "RangeIndex: 6362620 entries, 0 to 6362619\n",
      "Data columns (total 11 columns):\n",
      " #   Column          Dtype  \n",
      "---  ------          -----  \n",
      " 0   step            int64  \n",
      " 1   type            object \n",
      " 2   amount          float64\n",
      " 3   nameOrig        object \n",
      " 4   oldbalanceOrg   float64\n",
      " 5   newbalanceOrig  float64\n",
      " 6   nameDest        object \n",
      " 7   oldbalanceDest  float64\n",
      " 8   newbalanceDest  float64\n",
      " 9   isFraud         int64  \n",
      " 10  isFlaggedFraud  int64  \n",
      "dtypes: float64(5), int64(3), object(3)\n",
      "memory usage: 534.0+ MB\n"
     ]
    }
   ],
   "source": [
    "ng.info()"
   ]
  },
  {
   "cell_type": "code",
   "execution_count": 6,
   "metadata": {},
   "outputs": [
    {
     "data": {
      "text/html": [
       "<div>\n",
       "<style scoped>\n",
       "    .dataframe tbody tr th:only-of-type {\n",
       "        vertical-align: middle;\n",
       "    }\n",
       "\n",
       "    .dataframe tbody tr th {\n",
       "        vertical-align: top;\n",
       "    }\n",
       "\n",
       "    .dataframe thead th {\n",
       "        text-align: right;\n",
       "    }\n",
       "</style>\n",
       "<table border=\"1\" class=\"dataframe\">\n",
       "  <thead>\n",
       "    <tr style=\"text-align: right;\">\n",
       "      <th></th>\n",
       "      <th>step</th>\n",
       "      <th>amount</th>\n",
       "      <th>oldbalanceOrg</th>\n",
       "      <th>newbalanceOrig</th>\n",
       "      <th>oldbalanceDest</th>\n",
       "      <th>newbalanceDest</th>\n",
       "      <th>isFraud</th>\n",
       "      <th>isFlaggedFraud</th>\n",
       "    </tr>\n",
       "  </thead>\n",
       "  <tbody>\n",
       "    <tr>\n",
       "      <th>count</th>\n",
       "      <td>6.362620e+06</td>\n",
       "      <td>6.362620e+06</td>\n",
       "      <td>6.362620e+06</td>\n",
       "      <td>6.362620e+06</td>\n",
       "      <td>6.362620e+06</td>\n",
       "      <td>6.362620e+06</td>\n",
       "      <td>6.362620e+06</td>\n",
       "      <td>6.362620e+06</td>\n",
       "    </tr>\n",
       "    <tr>\n",
       "      <th>mean</th>\n",
       "      <td>2.433972e+02</td>\n",
       "      <td>1.798619e+05</td>\n",
       "      <td>8.338831e+05</td>\n",
       "      <td>8.551137e+05</td>\n",
       "      <td>1.100702e+06</td>\n",
       "      <td>1.224996e+06</td>\n",
       "      <td>1.290820e-03</td>\n",
       "      <td>2.514687e-06</td>\n",
       "    </tr>\n",
       "    <tr>\n",
       "      <th>std</th>\n",
       "      <td>1.423320e+02</td>\n",
       "      <td>6.038582e+05</td>\n",
       "      <td>2.888243e+06</td>\n",
       "      <td>2.924049e+06</td>\n",
       "      <td>3.399180e+06</td>\n",
       "      <td>3.674129e+06</td>\n",
       "      <td>3.590480e-02</td>\n",
       "      <td>1.585775e-03</td>\n",
       "    </tr>\n",
       "    <tr>\n",
       "      <th>min</th>\n",
       "      <td>1.000000e+00</td>\n",
       "      <td>0.000000e+00</td>\n",
       "      <td>0.000000e+00</td>\n",
       "      <td>0.000000e+00</td>\n",
       "      <td>0.000000e+00</td>\n",
       "      <td>0.000000e+00</td>\n",
       "      <td>0.000000e+00</td>\n",
       "      <td>0.000000e+00</td>\n",
       "    </tr>\n",
       "    <tr>\n",
       "      <th>25%</th>\n",
       "      <td>1.560000e+02</td>\n",
       "      <td>1.338957e+04</td>\n",
       "      <td>0.000000e+00</td>\n",
       "      <td>0.000000e+00</td>\n",
       "      <td>0.000000e+00</td>\n",
       "      <td>0.000000e+00</td>\n",
       "      <td>0.000000e+00</td>\n",
       "      <td>0.000000e+00</td>\n",
       "    </tr>\n",
       "    <tr>\n",
       "      <th>50%</th>\n",
       "      <td>2.390000e+02</td>\n",
       "      <td>7.487194e+04</td>\n",
       "      <td>1.420800e+04</td>\n",
       "      <td>0.000000e+00</td>\n",
       "      <td>1.327057e+05</td>\n",
       "      <td>2.146614e+05</td>\n",
       "      <td>0.000000e+00</td>\n",
       "      <td>0.000000e+00</td>\n",
       "    </tr>\n",
       "    <tr>\n",
       "      <th>75%</th>\n",
       "      <td>3.350000e+02</td>\n",
       "      <td>2.087215e+05</td>\n",
       "      <td>1.073152e+05</td>\n",
       "      <td>1.442584e+05</td>\n",
       "      <td>9.430367e+05</td>\n",
       "      <td>1.111909e+06</td>\n",
       "      <td>0.000000e+00</td>\n",
       "      <td>0.000000e+00</td>\n",
       "    </tr>\n",
       "    <tr>\n",
       "      <th>max</th>\n",
       "      <td>7.430000e+02</td>\n",
       "      <td>9.244552e+07</td>\n",
       "      <td>5.958504e+07</td>\n",
       "      <td>4.958504e+07</td>\n",
       "      <td>3.560159e+08</td>\n",
       "      <td>3.561793e+08</td>\n",
       "      <td>1.000000e+00</td>\n",
       "      <td>1.000000e+00</td>\n",
       "    </tr>\n",
       "  </tbody>\n",
       "</table>\n",
       "</div>"
      ],
      "text/plain": [
       "               step        amount  oldbalanceOrg  newbalanceOrig  \\\n",
       "count  6.362620e+06  6.362620e+06   6.362620e+06    6.362620e+06   \n",
       "mean   2.433972e+02  1.798619e+05   8.338831e+05    8.551137e+05   \n",
       "std    1.423320e+02  6.038582e+05   2.888243e+06    2.924049e+06   \n",
       "min    1.000000e+00  0.000000e+00   0.000000e+00    0.000000e+00   \n",
       "25%    1.560000e+02  1.338957e+04   0.000000e+00    0.000000e+00   \n",
       "50%    2.390000e+02  7.487194e+04   1.420800e+04    0.000000e+00   \n",
       "75%    3.350000e+02  2.087215e+05   1.073152e+05    1.442584e+05   \n",
       "max    7.430000e+02  9.244552e+07   5.958504e+07    4.958504e+07   \n",
       "\n",
       "       oldbalanceDest  newbalanceDest       isFraud  isFlaggedFraud  \n",
       "count    6.362620e+06    6.362620e+06  6.362620e+06    6.362620e+06  \n",
       "mean     1.100702e+06    1.224996e+06  1.290820e-03    2.514687e-06  \n",
       "std      3.399180e+06    3.674129e+06  3.590480e-02    1.585775e-03  \n",
       "min      0.000000e+00    0.000000e+00  0.000000e+00    0.000000e+00  \n",
       "25%      0.000000e+00    0.000000e+00  0.000000e+00    0.000000e+00  \n",
       "50%      1.327057e+05    2.146614e+05  0.000000e+00    0.000000e+00  \n",
       "75%      9.430367e+05    1.111909e+06  0.000000e+00    0.000000e+00  \n",
       "max      3.560159e+08    3.561793e+08  1.000000e+00    1.000000e+00  "
      ]
     },
     "execution_count": 6,
     "metadata": {},
     "output_type": "execute_result"
    }
   ],
   "source": [
    "ng.describe()"
   ]
  },
  {
   "cell_type": "markdown",
   "metadata": {},
   "source": [
    "### Preprocessing\n"
   ]
  },
  {
   "cell_type": "code",
   "execution_count": 7,
   "metadata": {},
   "outputs": [
    {
     "data": {
      "text/plain": [
       "step              0\n",
       "type              0\n",
       "amount            0\n",
       "nameOrig          0\n",
       "oldbalanceOrg     0\n",
       "newbalanceOrig    0\n",
       "nameDest          0\n",
       "oldbalanceDest    0\n",
       "newbalanceDest    0\n",
       "isFraud           0\n",
       "isFlaggedFraud    0\n",
       "dtype: int64"
      ]
     },
     "execution_count": 7,
     "metadata": {},
     "output_type": "execute_result"
    }
   ],
   "source": [
    "ng.isnull().sum()"
   ]
  },
  {
   "cell_type": "code",
   "execution_count": 8,
   "metadata": {},
   "outputs": [
    {
     "data": {
      "text/plain": [
       "CASH_OUT    2237500\n",
       "PAYMENT     2151495\n",
       "CASH_IN     1399284\n",
       "TRANSFER     532909\n",
       "DEBIT         41432\n",
       "Name: type, dtype: int64"
      ]
     },
     "execution_count": 8,
     "metadata": {},
     "output_type": "execute_result"
    }
   ],
   "source": [
    "ng.type.value_counts()"
   ]
  },
  {
   "cell_type": "code",
   "execution_count": 9,
   "metadata": {},
   "outputs": [
    {
     "data": {
      "text/plain": [
       "0    6354407\n",
       "1       8213\n",
       "Name: isFraud, dtype: int64"
      ]
     },
     "execution_count": 9,
     "metadata": {},
     "output_type": "execute_result"
    }
   ],
   "source": [
    "ng['isFraud'].value_counts()"
   ]
  },
  {
   "cell_type": "code",
   "execution_count": 10,
   "metadata": {},
   "outputs": [
    {
     "name": "stdout",
     "output_type": "stream",
     "text": [
      "4116\n",
      "0\n",
      "0\n",
      "4097\n",
      "0\n"
     ]
    }
   ],
   "source": [
    "# categories that have most frauds\n",
    "ng_Fraud_Cash_Out = ng.loc[(ng.isFraud == 1) & (ng.type == 'CASH_OUT')]\n",
    "ng_Fraud_Payment = ng.loc[(ng.isFraud == 1) & (ng.type == 'PAYMENT')]\n",
    "ng_Fraud_Cash_in = ng.loc[(ng.isFraud == 1) & (ng.type == 'CASH_IN')]\n",
    "ng_Fraud_Transfer = ng.loc[(ng.isFraud == 1) & (ng.type == 'TRANSFER')]\n",
    "ng_Fraud_Debit = ng.loc[(ng.isFraud == 1) & (ng.type == 'DEBIT')]\n",
    "\n",
    "print(len(ng_Fraud_Cash_Out))\n",
    "print(len(ng_Fraud_Payment))\n",
    "print(len(ng_Fraud_Cash_in))\n",
    "print(len(ng_Fraud_Transfer))\n",
    "print(len(ng_Fraud_Debit))"
   ]
  },
  {
   "cell_type": "code",
   "execution_count": 11,
   "metadata": {},
   "outputs": [
    {
     "name": "stdout",
     "output_type": "stream",
     "text": [
      "2233384\n",
      "528812\n"
     ]
    }
   ],
   "source": [
    "#Legit transactions in these categrories\n",
    "ng_Legit_Cash_Out = ng.loc[(ng.isFraud == 0) & (ng.type == 'CASH_OUT')]\n",
    "ng_Legit_Transfer = ng.loc[(ng.isFraud == 0) & (ng.type == 'TRANSFER')]\n",
    "\n",
    "print(len(ng_Legit_Cash_Out))\n",
    "print(len(ng_Legit_Transfer))"
   ]
  },
  {
   "cell_type": "code",
   "execution_count": 12,
   "metadata": {},
   "outputs": [],
   "source": [
    "#here the data is very much unbalanced.\n",
    "#so for these ngs, I'm randomly selecting a subset of rows from the original ng."
   ]
  },
  {
   "cell_type": "code",
   "execution_count": 13,
   "metadata": {},
   "outputs": [],
   "source": [
    "ng1 = ng.loc[(ng.isFraud == 1) & (ng['type'] == 'CASH_OUT')]\n",
    "ng2 = ng.loc[(ng.isFraud == 1) & (ng['type'] == 'TRANSFER')]\n",
    "ng3 = ng.loc[(ng.isFraud == 0) & (ng['type'] == 'CASH_OUT')].sample(frac=0.002)\n",
    "ng4 = ng.loc[(ng.isFraud == 0) & (ng['type'] == 'TRANSFER')].sample(frac=0.008)"
   ]
  },
  {
   "cell_type": "code",
   "execution_count": 14,
   "metadata": {},
   "outputs": [],
   "source": [
    "newng= pd.concat([ng1,ng2,ng3,ng4])\n",
    "from sklearn.utils import shuffle\n",
    "newng= shuffle(newng)"
   ]
  },
  {
   "cell_type": "code",
   "execution_count": 15,
   "metadata": {},
   "outputs": [
    {
     "data": {
      "text/html": [
       "<div>\n",
       "<style scoped>\n",
       "    .dataframe tbody tr th:only-of-type {\n",
       "        vertical-align: middle;\n",
       "    }\n",
       "\n",
       "    .dataframe tbody tr th {\n",
       "        vertical-align: top;\n",
       "    }\n",
       "\n",
       "    .dataframe thead th {\n",
       "        text-align: right;\n",
       "    }\n",
       "</style>\n",
       "<table border=\"1\" class=\"dataframe\">\n",
       "  <thead>\n",
       "    <tr style=\"text-align: right;\">\n",
       "      <th></th>\n",
       "      <th>step</th>\n",
       "      <th>type</th>\n",
       "      <th>amount</th>\n",
       "      <th>nameOrig</th>\n",
       "      <th>oldbalanceOrg</th>\n",
       "      <th>newbalanceOrig</th>\n",
       "      <th>nameDest</th>\n",
       "      <th>oldbalanceDest</th>\n",
       "      <th>newbalanceDest</th>\n",
       "      <th>isFraud</th>\n",
       "      <th>isFlaggedFraud</th>\n",
       "    </tr>\n",
       "  </thead>\n",
       "  <tbody>\n",
       "    <tr>\n",
       "      <th>1294316</th>\n",
       "      <td>136</td>\n",
       "      <td>TRANSFER</td>\n",
       "      <td>387630.26</td>\n",
       "      <td>C1745518985</td>\n",
       "      <td>0.00</td>\n",
       "      <td>0.0</td>\n",
       "      <td>C1307538437</td>\n",
       "      <td>474873.59</td>\n",
       "      <td>862503.86</td>\n",
       "      <td>0</td>\n",
       "      <td>0</td>\n",
       "    </tr>\n",
       "    <tr>\n",
       "      <th>3554467</th>\n",
       "      <td>260</td>\n",
       "      <td>TRANSFER</td>\n",
       "      <td>368716.96</td>\n",
       "      <td>C746787141</td>\n",
       "      <td>0.00</td>\n",
       "      <td>0.0</td>\n",
       "      <td>C2020724312</td>\n",
       "      <td>408277.39</td>\n",
       "      <td>776994.35</td>\n",
       "      <td>0</td>\n",
       "      <td>0</td>\n",
       "    </tr>\n",
       "    <tr>\n",
       "      <th>6117187</th>\n",
       "      <td>528</td>\n",
       "      <td>TRANSFER</td>\n",
       "      <td>311234.46</td>\n",
       "      <td>C1635920550</td>\n",
       "      <td>311234.46</td>\n",
       "      <td>0.0</td>\n",
       "      <td>C942070496</td>\n",
       "      <td>0.00</td>\n",
       "      <td>0.00</td>\n",
       "      <td>1</td>\n",
       "      <td>0</td>\n",
       "    </tr>\n",
       "    <tr>\n",
       "      <th>3596456</th>\n",
       "      <td>262</td>\n",
       "      <td>CASH_OUT</td>\n",
       "      <td>2914653.69</td>\n",
       "      <td>C551410627</td>\n",
       "      <td>2914653.69</td>\n",
       "      <td>0.0</td>\n",
       "      <td>C1503946435</td>\n",
       "      <td>558015.85</td>\n",
       "      <td>3472669.53</td>\n",
       "      <td>1</td>\n",
       "      <td>0</td>\n",
       "    </tr>\n",
       "    <tr>\n",
       "      <th>6200560</th>\n",
       "      <td>576</td>\n",
       "      <td>CASH_OUT</td>\n",
       "      <td>511389.50</td>\n",
       "      <td>C399946871</td>\n",
       "      <td>511389.50</td>\n",
       "      <td>0.0</td>\n",
       "      <td>C529880237</td>\n",
       "      <td>0.00</td>\n",
       "      <td>511389.50</td>\n",
       "      <td>1</td>\n",
       "      <td>0</td>\n",
       "    </tr>\n",
       "    <tr>\n",
       "      <th>...</th>\n",
       "      <td>...</td>\n",
       "      <td>...</td>\n",
       "      <td>...</td>\n",
       "      <td>...</td>\n",
       "      <td>...</td>\n",
       "      <td>...</td>\n",
       "      <td>...</td>\n",
       "      <td>...</td>\n",
       "      <td>...</td>\n",
       "      <td>...</td>\n",
       "      <td>...</td>\n",
       "    </tr>\n",
       "    <tr>\n",
       "      <th>1871234</th>\n",
       "      <td>164</td>\n",
       "      <td>CASH_OUT</td>\n",
       "      <td>320183.39</td>\n",
       "      <td>C1069162034</td>\n",
       "      <td>0.00</td>\n",
       "      <td>0.0</td>\n",
       "      <td>C536127678</td>\n",
       "      <td>2418877.08</td>\n",
       "      <td>2739060.47</td>\n",
       "      <td>0</td>\n",
       "      <td>0</td>\n",
       "    </tr>\n",
       "    <tr>\n",
       "      <th>6020957</th>\n",
       "      <td>466</td>\n",
       "      <td>TRANSFER</td>\n",
       "      <td>230806.85</td>\n",
       "      <td>C549647828</td>\n",
       "      <td>230806.85</td>\n",
       "      <td>0.0</td>\n",
       "      <td>C13373079</td>\n",
       "      <td>0.00</td>\n",
       "      <td>0.00</td>\n",
       "      <td>1</td>\n",
       "      <td>0</td>\n",
       "    </tr>\n",
       "    <tr>\n",
       "      <th>6020196</th>\n",
       "      <td>460</td>\n",
       "      <td>TRANSFER</td>\n",
       "      <td>998086.61</td>\n",
       "      <td>C1107781229</td>\n",
       "      <td>998086.61</td>\n",
       "      <td>0.0</td>\n",
       "      <td>C2074418507</td>\n",
       "      <td>0.00</td>\n",
       "      <td>0.00</td>\n",
       "      <td>1</td>\n",
       "      <td>0</td>\n",
       "    </tr>\n",
       "    <tr>\n",
       "      <th>5130243</th>\n",
       "      <td>356</td>\n",
       "      <td>TRANSFER</td>\n",
       "      <td>1557677.19</td>\n",
       "      <td>C926148240</td>\n",
       "      <td>0.00</td>\n",
       "      <td>0.0</td>\n",
       "      <td>C1243554532</td>\n",
       "      <td>5204149.02</td>\n",
       "      <td>7053007.31</td>\n",
       "      <td>0</td>\n",
       "      <td>0</td>\n",
       "    </tr>\n",
       "    <tr>\n",
       "      <th>2703722</th>\n",
       "      <td>211</td>\n",
       "      <td>CASH_OUT</td>\n",
       "      <td>405062.33</td>\n",
       "      <td>C418222166</td>\n",
       "      <td>405062.33</td>\n",
       "      <td>0.0</td>\n",
       "      <td>C690195469</td>\n",
       "      <td>1844185.94</td>\n",
       "      <td>2249248.27</td>\n",
       "      <td>1</td>\n",
       "      <td>0</td>\n",
       "    </tr>\n",
       "  </tbody>\n",
       "</table>\n",
       "<p>16910 rows × 11 columns</p>\n",
       "</div>"
      ],
      "text/plain": [
       "         step      type      amount     nameOrig  oldbalanceOrg  \\\n",
       "1294316   136  TRANSFER   387630.26  C1745518985           0.00   \n",
       "3554467   260  TRANSFER   368716.96   C746787141           0.00   \n",
       "6117187   528  TRANSFER   311234.46  C1635920550      311234.46   \n",
       "3596456   262  CASH_OUT  2914653.69   C551410627     2914653.69   \n",
       "6200560   576  CASH_OUT   511389.50   C399946871      511389.50   \n",
       "...       ...       ...         ...          ...            ...   \n",
       "1871234   164  CASH_OUT   320183.39  C1069162034           0.00   \n",
       "6020957   466  TRANSFER   230806.85   C549647828      230806.85   \n",
       "6020196   460  TRANSFER   998086.61  C1107781229      998086.61   \n",
       "5130243   356  TRANSFER  1557677.19   C926148240           0.00   \n",
       "2703722   211  CASH_OUT   405062.33   C418222166      405062.33   \n",
       "\n",
       "         newbalanceOrig     nameDest  oldbalanceDest  newbalanceDest  isFraud  \\\n",
       "1294316             0.0  C1307538437       474873.59       862503.86        0   \n",
       "3554467             0.0  C2020724312       408277.39       776994.35        0   \n",
       "6117187             0.0   C942070496            0.00            0.00        1   \n",
       "3596456             0.0  C1503946435       558015.85      3472669.53        1   \n",
       "6200560             0.0   C529880237            0.00       511389.50        1   \n",
       "...                 ...          ...             ...             ...      ...   \n",
       "1871234             0.0   C536127678      2418877.08      2739060.47        0   \n",
       "6020957             0.0    C13373079            0.00            0.00        1   \n",
       "6020196             0.0  C2074418507            0.00            0.00        1   \n",
       "5130243             0.0  C1243554532      5204149.02      7053007.31        0   \n",
       "2703722             0.0   C690195469      1844185.94      2249248.27        1   \n",
       "\n",
       "         isFlaggedFraud  \n",
       "1294316               0  \n",
       "3554467               0  \n",
       "6117187               0  \n",
       "3596456               0  \n",
       "6200560               0  \n",
       "...                 ...  \n",
       "1871234               0  \n",
       "6020957               0  \n",
       "6020196               0  \n",
       "5130243               0  \n",
       "2703722               0  \n",
       "\n",
       "[16910 rows x 11 columns]"
      ]
     },
     "execution_count": 15,
     "metadata": {},
     "output_type": "execute_result"
    }
   ],
   "source": [
    "newng"
   ]
  },
  {
   "cell_type": "code",
   "execution_count": 16,
   "metadata": {},
   "outputs": [
    {
     "data": {
      "text/plain": [
       "0    8697\n",
       "1    8213\n",
       "Name: isFraud, dtype: int64"
      ]
     },
     "execution_count": 16,
     "metadata": {},
     "output_type": "execute_result"
    }
   ],
   "source": [
    "newng['isFraud'].value_counts()"
   ]
  },
  {
   "cell_type": "code",
   "execution_count": 17,
   "metadata": {},
   "outputs": [
    {
     "data": {
      "text/plain": [
       "array([1, 1, 1, ..., 1, 1, 0])"
      ]
     },
     "execution_count": 17,
     "metadata": {},
     "output_type": "execute_result"
    }
   ],
   "source": [
    "#converting type column to labels with the help of labelencoder\n",
    "from sklearn.preprocessing import LabelEncoder\n",
    "le = LabelEncoder()\n",
    "label = le.fit_transform(newng['type'])\n",
    "label"
   ]
  },
  {
   "cell_type": "code",
   "execution_count": 18,
   "metadata": {},
   "outputs": [],
   "source": [
    "# Inserting converted type data into our dataset\n",
    "newng.insert(2,'type_num', label)"
   ]
  },
  {
   "cell_type": "code",
   "execution_count": 19,
   "metadata": {},
   "outputs": [
    {
     "data": {
      "text/plain": [
       "array([1, 0])"
      ]
     },
     "execution_count": 19,
     "metadata": {},
     "output_type": "execute_result"
    }
   ],
   "source": [
    "newng.type_num.unique()"
   ]
  },
  {
   "cell_type": "code",
   "execution_count": 20,
   "metadata": {
    "scrolled": true
   },
   "outputs": [
    {
     "data": {
      "text/html": [
       "<div>\n",
       "<style scoped>\n",
       "    .dataframe tbody tr th:only-of-type {\n",
       "        vertical-align: middle;\n",
       "    }\n",
       "\n",
       "    .dataframe tbody tr th {\n",
       "        vertical-align: top;\n",
       "    }\n",
       "\n",
       "    .dataframe thead th {\n",
       "        text-align: right;\n",
       "    }\n",
       "</style>\n",
       "<table border=\"1\" class=\"dataframe\">\n",
       "  <thead>\n",
       "    <tr style=\"text-align: right;\">\n",
       "      <th></th>\n",
       "      <th>step</th>\n",
       "      <th>type</th>\n",
       "      <th>type_num</th>\n",
       "      <th>amount</th>\n",
       "      <th>nameOrig</th>\n",
       "      <th>oldbalanceOrg</th>\n",
       "      <th>newbalanceOrig</th>\n",
       "      <th>nameDest</th>\n",
       "      <th>oldbalanceDest</th>\n",
       "      <th>newbalanceDest</th>\n",
       "      <th>isFraud</th>\n",
       "      <th>isFlaggedFraud</th>\n",
       "    </tr>\n",
       "  </thead>\n",
       "  <tbody>\n",
       "    <tr>\n",
       "      <th>1294316</th>\n",
       "      <td>136</td>\n",
       "      <td>TRANSFER</td>\n",
       "      <td>1</td>\n",
       "      <td>387630.26</td>\n",
       "      <td>1745518985</td>\n",
       "      <td>0.00</td>\n",
       "      <td>0.0</td>\n",
       "      <td>C1307538437</td>\n",
       "      <td>474873.59</td>\n",
       "      <td>862503.86</td>\n",
       "      <td>0</td>\n",
       "      <td>0</td>\n",
       "    </tr>\n",
       "    <tr>\n",
       "      <th>3554467</th>\n",
       "      <td>260</td>\n",
       "      <td>TRANSFER</td>\n",
       "      <td>1</td>\n",
       "      <td>368716.96</td>\n",
       "      <td>746787141</td>\n",
       "      <td>0.00</td>\n",
       "      <td>0.0</td>\n",
       "      <td>C2020724312</td>\n",
       "      <td>408277.39</td>\n",
       "      <td>776994.35</td>\n",
       "      <td>0</td>\n",
       "      <td>0</td>\n",
       "    </tr>\n",
       "    <tr>\n",
       "      <th>6117187</th>\n",
       "      <td>528</td>\n",
       "      <td>TRANSFER</td>\n",
       "      <td>1</td>\n",
       "      <td>311234.46</td>\n",
       "      <td>1635920550</td>\n",
       "      <td>311234.46</td>\n",
       "      <td>0.0</td>\n",
       "      <td>C942070496</td>\n",
       "      <td>0.00</td>\n",
       "      <td>0.00</td>\n",
       "      <td>1</td>\n",
       "      <td>0</td>\n",
       "    </tr>\n",
       "    <tr>\n",
       "      <th>3596456</th>\n",
       "      <td>262</td>\n",
       "      <td>CASH_OUT</td>\n",
       "      <td>0</td>\n",
       "      <td>2914653.69</td>\n",
       "      <td>551410627</td>\n",
       "      <td>2914653.69</td>\n",
       "      <td>0.0</td>\n",
       "      <td>C1503946435</td>\n",
       "      <td>558015.85</td>\n",
       "      <td>3472669.53</td>\n",
       "      <td>1</td>\n",
       "      <td>0</td>\n",
       "    </tr>\n",
       "    <tr>\n",
       "      <th>6200560</th>\n",
       "      <td>576</td>\n",
       "      <td>CASH_OUT</td>\n",
       "      <td>0</td>\n",
       "      <td>511389.50</td>\n",
       "      <td>399946871</td>\n",
       "      <td>511389.50</td>\n",
       "      <td>0.0</td>\n",
       "      <td>C529880237</td>\n",
       "      <td>0.00</td>\n",
       "      <td>511389.50</td>\n",
       "      <td>1</td>\n",
       "      <td>0</td>\n",
       "    </tr>\n",
       "    <tr>\n",
       "      <th>...</th>\n",
       "      <td>...</td>\n",
       "      <td>...</td>\n",
       "      <td>...</td>\n",
       "      <td>...</td>\n",
       "      <td>...</td>\n",
       "      <td>...</td>\n",
       "      <td>...</td>\n",
       "      <td>...</td>\n",
       "      <td>...</td>\n",
       "      <td>...</td>\n",
       "      <td>...</td>\n",
       "      <td>...</td>\n",
       "    </tr>\n",
       "    <tr>\n",
       "      <th>1871234</th>\n",
       "      <td>164</td>\n",
       "      <td>CASH_OUT</td>\n",
       "      <td>0</td>\n",
       "      <td>320183.39</td>\n",
       "      <td>1069162034</td>\n",
       "      <td>0.00</td>\n",
       "      <td>0.0</td>\n",
       "      <td>C536127678</td>\n",
       "      <td>2418877.08</td>\n",
       "      <td>2739060.47</td>\n",
       "      <td>0</td>\n",
       "      <td>0</td>\n",
       "    </tr>\n",
       "    <tr>\n",
       "      <th>6020957</th>\n",
       "      <td>466</td>\n",
       "      <td>TRANSFER</td>\n",
       "      <td>1</td>\n",
       "      <td>230806.85</td>\n",
       "      <td>549647828</td>\n",
       "      <td>230806.85</td>\n",
       "      <td>0.0</td>\n",
       "      <td>C13373079</td>\n",
       "      <td>0.00</td>\n",
       "      <td>0.00</td>\n",
       "      <td>1</td>\n",
       "      <td>0</td>\n",
       "    </tr>\n",
       "    <tr>\n",
       "      <th>6020196</th>\n",
       "      <td>460</td>\n",
       "      <td>TRANSFER</td>\n",
       "      <td>1</td>\n",
       "      <td>998086.61</td>\n",
       "      <td>1107781229</td>\n",
       "      <td>998086.61</td>\n",
       "      <td>0.0</td>\n",
       "      <td>C2074418507</td>\n",
       "      <td>0.00</td>\n",
       "      <td>0.00</td>\n",
       "      <td>1</td>\n",
       "      <td>0</td>\n",
       "    </tr>\n",
       "    <tr>\n",
       "      <th>5130243</th>\n",
       "      <td>356</td>\n",
       "      <td>TRANSFER</td>\n",
       "      <td>1</td>\n",
       "      <td>1557677.19</td>\n",
       "      <td>926148240</td>\n",
       "      <td>0.00</td>\n",
       "      <td>0.0</td>\n",
       "      <td>C1243554532</td>\n",
       "      <td>5204149.02</td>\n",
       "      <td>7053007.31</td>\n",
       "      <td>0</td>\n",
       "      <td>0</td>\n",
       "    </tr>\n",
       "    <tr>\n",
       "      <th>2703722</th>\n",
       "      <td>211</td>\n",
       "      <td>CASH_OUT</td>\n",
       "      <td>0</td>\n",
       "      <td>405062.33</td>\n",
       "      <td>418222166</td>\n",
       "      <td>405062.33</td>\n",
       "      <td>0.0</td>\n",
       "      <td>C690195469</td>\n",
       "      <td>1844185.94</td>\n",
       "      <td>2249248.27</td>\n",
       "      <td>1</td>\n",
       "      <td>0</td>\n",
       "    </tr>\n",
       "  </tbody>\n",
       "</table>\n",
       "<p>16910 rows × 12 columns</p>\n",
       "</div>"
      ],
      "text/plain": [
       "         step      type  type_num      amount    nameOrig  oldbalanceOrg  \\\n",
       "1294316   136  TRANSFER         1   387630.26  1745518985           0.00   \n",
       "3554467   260  TRANSFER         1   368716.96   746787141           0.00   \n",
       "6117187   528  TRANSFER         1   311234.46  1635920550      311234.46   \n",
       "3596456   262  CASH_OUT         0  2914653.69   551410627     2914653.69   \n",
       "6200560   576  CASH_OUT         0   511389.50   399946871      511389.50   \n",
       "...       ...       ...       ...         ...         ...            ...   \n",
       "1871234   164  CASH_OUT         0   320183.39  1069162034           0.00   \n",
       "6020957   466  TRANSFER         1   230806.85   549647828      230806.85   \n",
       "6020196   460  TRANSFER         1   998086.61  1107781229      998086.61   \n",
       "5130243   356  TRANSFER         1  1557677.19   926148240           0.00   \n",
       "2703722   211  CASH_OUT         0   405062.33   418222166      405062.33   \n",
       "\n",
       "         newbalanceOrig     nameDest  oldbalanceDest  newbalanceDest  isFraud  \\\n",
       "1294316             0.0  C1307538437       474873.59       862503.86        0   \n",
       "3554467             0.0  C2020724312       408277.39       776994.35        0   \n",
       "6117187             0.0   C942070496            0.00            0.00        1   \n",
       "3596456             0.0  C1503946435       558015.85      3472669.53        1   \n",
       "6200560             0.0   C529880237            0.00       511389.50        1   \n",
       "...                 ...          ...             ...             ...      ...   \n",
       "1871234             0.0   C536127678      2418877.08      2739060.47        0   \n",
       "6020957             0.0    C13373079            0.00            0.00        1   \n",
       "6020196             0.0  C2074418507            0.00            0.00        1   \n",
       "5130243             0.0  C1243554532      5204149.02      7053007.31        0   \n",
       "2703722             0.0   C690195469      1844185.94      2249248.27        1   \n",
       "\n",
       "         isFlaggedFraud  \n",
       "1294316               0  \n",
       "3554467               0  \n",
       "6117187               0  \n",
       "3596456               0  \n",
       "6200560               0  \n",
       "...                 ...  \n",
       "1871234               0  \n",
       "6020957               0  \n",
       "6020196               0  \n",
       "5130243               0  \n",
       "2703722               0  \n",
       "\n",
       "[16910 rows x 12 columns]"
      ]
     },
     "execution_count": 20,
     "metadata": {},
     "output_type": "execute_result"
    }
   ],
   "source": [
    "# there is a character 'c' in the columns of nameOrig & nameDest.\n",
    "# converting those values into numbers only format\n",
    "newng['nameOrig'] = newng['nameOrig'].replace({'C': ''}, regex=True)\n",
    "newng"
   ]
  },
  {
   "cell_type": "code",
   "execution_count": 21,
   "metadata": {
    "scrolled": true
   },
   "outputs": [
    {
     "data": {
      "text/html": [
       "<div>\n",
       "<style scoped>\n",
       "    .dataframe tbody tr th:only-of-type {\n",
       "        vertical-align: middle;\n",
       "    }\n",
       "\n",
       "    .dataframe tbody tr th {\n",
       "        vertical-align: top;\n",
       "    }\n",
       "\n",
       "    .dataframe thead th {\n",
       "        text-align: right;\n",
       "    }\n",
       "</style>\n",
       "<table border=\"1\" class=\"dataframe\">\n",
       "  <thead>\n",
       "    <tr style=\"text-align: right;\">\n",
       "      <th></th>\n",
       "      <th>step</th>\n",
       "      <th>type</th>\n",
       "      <th>type_num</th>\n",
       "      <th>amount</th>\n",
       "      <th>nameOrig</th>\n",
       "      <th>oldbalanceOrg</th>\n",
       "      <th>newbalanceOrig</th>\n",
       "      <th>nameDest</th>\n",
       "      <th>oldbalanceDest</th>\n",
       "      <th>newbalanceDest</th>\n",
       "      <th>isFraud</th>\n",
       "      <th>isFlaggedFraud</th>\n",
       "    </tr>\n",
       "  </thead>\n",
       "  <tbody>\n",
       "    <tr>\n",
       "      <th>1294316</th>\n",
       "      <td>136</td>\n",
       "      <td>TRANSFER</td>\n",
       "      <td>1</td>\n",
       "      <td>387630.26</td>\n",
       "      <td>1745518985</td>\n",
       "      <td>0.00</td>\n",
       "      <td>0.0</td>\n",
       "      <td>1307538437</td>\n",
       "      <td>474873.59</td>\n",
       "      <td>862503.86</td>\n",
       "      <td>0</td>\n",
       "      <td>0</td>\n",
       "    </tr>\n",
       "    <tr>\n",
       "      <th>3554467</th>\n",
       "      <td>260</td>\n",
       "      <td>TRANSFER</td>\n",
       "      <td>1</td>\n",
       "      <td>368716.96</td>\n",
       "      <td>746787141</td>\n",
       "      <td>0.00</td>\n",
       "      <td>0.0</td>\n",
       "      <td>2020724312</td>\n",
       "      <td>408277.39</td>\n",
       "      <td>776994.35</td>\n",
       "      <td>0</td>\n",
       "      <td>0</td>\n",
       "    </tr>\n",
       "    <tr>\n",
       "      <th>6117187</th>\n",
       "      <td>528</td>\n",
       "      <td>TRANSFER</td>\n",
       "      <td>1</td>\n",
       "      <td>311234.46</td>\n",
       "      <td>1635920550</td>\n",
       "      <td>311234.46</td>\n",
       "      <td>0.0</td>\n",
       "      <td>942070496</td>\n",
       "      <td>0.00</td>\n",
       "      <td>0.00</td>\n",
       "      <td>1</td>\n",
       "      <td>0</td>\n",
       "    </tr>\n",
       "    <tr>\n",
       "      <th>3596456</th>\n",
       "      <td>262</td>\n",
       "      <td>CASH_OUT</td>\n",
       "      <td>0</td>\n",
       "      <td>2914653.69</td>\n",
       "      <td>551410627</td>\n",
       "      <td>2914653.69</td>\n",
       "      <td>0.0</td>\n",
       "      <td>1503946435</td>\n",
       "      <td>558015.85</td>\n",
       "      <td>3472669.53</td>\n",
       "      <td>1</td>\n",
       "      <td>0</td>\n",
       "    </tr>\n",
       "    <tr>\n",
       "      <th>6200560</th>\n",
       "      <td>576</td>\n",
       "      <td>CASH_OUT</td>\n",
       "      <td>0</td>\n",
       "      <td>511389.50</td>\n",
       "      <td>399946871</td>\n",
       "      <td>511389.50</td>\n",
       "      <td>0.0</td>\n",
       "      <td>529880237</td>\n",
       "      <td>0.00</td>\n",
       "      <td>511389.50</td>\n",
       "      <td>1</td>\n",
       "      <td>0</td>\n",
       "    </tr>\n",
       "    <tr>\n",
       "      <th>...</th>\n",
       "      <td>...</td>\n",
       "      <td>...</td>\n",
       "      <td>...</td>\n",
       "      <td>...</td>\n",
       "      <td>...</td>\n",
       "      <td>...</td>\n",
       "      <td>...</td>\n",
       "      <td>...</td>\n",
       "      <td>...</td>\n",
       "      <td>...</td>\n",
       "      <td>...</td>\n",
       "      <td>...</td>\n",
       "    </tr>\n",
       "    <tr>\n",
       "      <th>1871234</th>\n",
       "      <td>164</td>\n",
       "      <td>CASH_OUT</td>\n",
       "      <td>0</td>\n",
       "      <td>320183.39</td>\n",
       "      <td>1069162034</td>\n",
       "      <td>0.00</td>\n",
       "      <td>0.0</td>\n",
       "      <td>536127678</td>\n",
       "      <td>2418877.08</td>\n",
       "      <td>2739060.47</td>\n",
       "      <td>0</td>\n",
       "      <td>0</td>\n",
       "    </tr>\n",
       "    <tr>\n",
       "      <th>6020957</th>\n",
       "      <td>466</td>\n",
       "      <td>TRANSFER</td>\n",
       "      <td>1</td>\n",
       "      <td>230806.85</td>\n",
       "      <td>549647828</td>\n",
       "      <td>230806.85</td>\n",
       "      <td>0.0</td>\n",
       "      <td>13373079</td>\n",
       "      <td>0.00</td>\n",
       "      <td>0.00</td>\n",
       "      <td>1</td>\n",
       "      <td>0</td>\n",
       "    </tr>\n",
       "    <tr>\n",
       "      <th>6020196</th>\n",
       "      <td>460</td>\n",
       "      <td>TRANSFER</td>\n",
       "      <td>1</td>\n",
       "      <td>998086.61</td>\n",
       "      <td>1107781229</td>\n",
       "      <td>998086.61</td>\n",
       "      <td>0.0</td>\n",
       "      <td>2074418507</td>\n",
       "      <td>0.00</td>\n",
       "      <td>0.00</td>\n",
       "      <td>1</td>\n",
       "      <td>0</td>\n",
       "    </tr>\n",
       "    <tr>\n",
       "      <th>5130243</th>\n",
       "      <td>356</td>\n",
       "      <td>TRANSFER</td>\n",
       "      <td>1</td>\n",
       "      <td>1557677.19</td>\n",
       "      <td>926148240</td>\n",
       "      <td>0.00</td>\n",
       "      <td>0.0</td>\n",
       "      <td>1243554532</td>\n",
       "      <td>5204149.02</td>\n",
       "      <td>7053007.31</td>\n",
       "      <td>0</td>\n",
       "      <td>0</td>\n",
       "    </tr>\n",
       "    <tr>\n",
       "      <th>2703722</th>\n",
       "      <td>211</td>\n",
       "      <td>CASH_OUT</td>\n",
       "      <td>0</td>\n",
       "      <td>405062.33</td>\n",
       "      <td>418222166</td>\n",
       "      <td>405062.33</td>\n",
       "      <td>0.0</td>\n",
       "      <td>690195469</td>\n",
       "      <td>1844185.94</td>\n",
       "      <td>2249248.27</td>\n",
       "      <td>1</td>\n",
       "      <td>0</td>\n",
       "    </tr>\n",
       "  </tbody>\n",
       "</table>\n",
       "<p>16910 rows × 12 columns</p>\n",
       "</div>"
      ],
      "text/plain": [
       "         step      type  type_num      amount    nameOrig  oldbalanceOrg  \\\n",
       "1294316   136  TRANSFER         1   387630.26  1745518985           0.00   \n",
       "3554467   260  TRANSFER         1   368716.96   746787141           0.00   \n",
       "6117187   528  TRANSFER         1   311234.46  1635920550      311234.46   \n",
       "3596456   262  CASH_OUT         0  2914653.69   551410627     2914653.69   \n",
       "6200560   576  CASH_OUT         0   511389.50   399946871      511389.50   \n",
       "...       ...       ...       ...         ...         ...            ...   \n",
       "1871234   164  CASH_OUT         0   320183.39  1069162034           0.00   \n",
       "6020957   466  TRANSFER         1   230806.85   549647828      230806.85   \n",
       "6020196   460  TRANSFER         1   998086.61  1107781229      998086.61   \n",
       "5130243   356  TRANSFER         1  1557677.19   926148240           0.00   \n",
       "2703722   211  CASH_OUT         0   405062.33   418222166      405062.33   \n",
       "\n",
       "         newbalanceOrig    nameDest  oldbalanceDest  newbalanceDest  isFraud  \\\n",
       "1294316             0.0  1307538437       474873.59       862503.86        0   \n",
       "3554467             0.0  2020724312       408277.39       776994.35        0   \n",
       "6117187             0.0   942070496            0.00            0.00        1   \n",
       "3596456             0.0  1503946435       558015.85      3472669.53        1   \n",
       "6200560             0.0   529880237            0.00       511389.50        1   \n",
       "...                 ...         ...             ...             ...      ...   \n",
       "1871234             0.0   536127678      2418877.08      2739060.47        0   \n",
       "6020957             0.0    13373079            0.00            0.00        1   \n",
       "6020196             0.0  2074418507            0.00            0.00        1   \n",
       "5130243             0.0  1243554532      5204149.02      7053007.31        0   \n",
       "2703722             0.0   690195469      1844185.94      2249248.27        1   \n",
       "\n",
       "         isFlaggedFraud  \n",
       "1294316               0  \n",
       "3554467               0  \n",
       "6117187               0  \n",
       "3596456               0  \n",
       "6200560               0  \n",
       "...                 ...  \n",
       "1871234               0  \n",
       "6020957               0  \n",
       "6020196               0  \n",
       "5130243               0  \n",
       "2703722               0  \n",
       "\n",
       "[16910 rows x 12 columns]"
      ]
     },
     "execution_count": 21,
     "metadata": {},
     "output_type": "execute_result"
    }
   ],
   "source": [
    "newng['nameDest'] = newng['nameDest'].replace({'C': ''}, regex=True)\n",
    "newng"
   ]
  },
  {
   "cell_type": "code",
   "execution_count": 22,
   "metadata": {},
   "outputs": [
    {
     "name": "stdout",
     "output_type": "stream",
     "text": [
      "<class 'pandas.core.frame.DataFrame'>\n",
      "Int64Index: 16910 entries, 1294316 to 2703722\n",
      "Data columns (total 12 columns):\n",
      " #   Column          Non-Null Count  Dtype  \n",
      "---  ------          --------------  -----  \n",
      " 0   step            16910 non-null  int64  \n",
      " 1   type            16910 non-null  object \n",
      " 2   type_num        16910 non-null  int32  \n",
      " 3   amount          16910 non-null  float64\n",
      " 4   nameOrig        16910 non-null  object \n",
      " 5   oldbalanceOrg   16910 non-null  float64\n",
      " 6   newbalanceOrig  16910 non-null  float64\n",
      " 7   nameDest        16910 non-null  object \n",
      " 8   oldbalanceDest  16910 non-null  float64\n",
      " 9   newbalanceDest  16910 non-null  float64\n",
      " 10  isFraud         16910 non-null  int64  \n",
      " 11  isFlaggedFraud  16910 non-null  int64  \n",
      "dtypes: float64(5), int32(1), int64(3), object(3)\n",
      "memory usage: 1.6+ MB\n"
     ]
    }
   ],
   "source": [
    "newng.info()"
   ]
  },
  {
   "cell_type": "code",
   "execution_count": 23,
   "metadata": {},
   "outputs": [
    {
     "data": {
      "text/html": [
       "<div>\n",
       "<style scoped>\n",
       "    .dataframe tbody tr th:only-of-type {\n",
       "        vertical-align: middle;\n",
       "    }\n",
       "\n",
       "    .dataframe tbody tr th {\n",
       "        vertical-align: top;\n",
       "    }\n",
       "\n",
       "    .dataframe thead th {\n",
       "        text-align: right;\n",
       "    }\n",
       "</style>\n",
       "<table border=\"1\" class=\"dataframe\">\n",
       "  <thead>\n",
       "    <tr style=\"text-align: right;\">\n",
       "      <th></th>\n",
       "      <th>step</th>\n",
       "      <th>type</th>\n",
       "      <th>type_num</th>\n",
       "      <th>amount</th>\n",
       "      <th>nameOrig</th>\n",
       "      <th>oldbalanceOrg</th>\n",
       "      <th>newbalanceOrig</th>\n",
       "      <th>nameDest</th>\n",
       "      <th>oldbalanceDest</th>\n",
       "      <th>newbalanceDest</th>\n",
       "      <th>isFraud</th>\n",
       "      <th>isFlaggedFraud</th>\n",
       "    </tr>\n",
       "  </thead>\n",
       "  <tbody>\n",
       "    <tr>\n",
       "      <th>1294316</th>\n",
       "      <td>136</td>\n",
       "      <td>TRANSFER</td>\n",
       "      <td>1</td>\n",
       "      <td>387630.26</td>\n",
       "      <td>1745518985</td>\n",
       "      <td>0.00</td>\n",
       "      <td>0.0</td>\n",
       "      <td>1307538437</td>\n",
       "      <td>474873.59</td>\n",
       "      <td>862503.86</td>\n",
       "      <td>0</td>\n",
       "      <td>0</td>\n",
       "    </tr>\n",
       "    <tr>\n",
       "      <th>3554467</th>\n",
       "      <td>260</td>\n",
       "      <td>TRANSFER</td>\n",
       "      <td>1</td>\n",
       "      <td>368716.96</td>\n",
       "      <td>746787141</td>\n",
       "      <td>0.00</td>\n",
       "      <td>0.0</td>\n",
       "      <td>2020724312</td>\n",
       "      <td>408277.39</td>\n",
       "      <td>776994.35</td>\n",
       "      <td>0</td>\n",
       "      <td>0</td>\n",
       "    </tr>\n",
       "    <tr>\n",
       "      <th>6117187</th>\n",
       "      <td>528</td>\n",
       "      <td>TRANSFER</td>\n",
       "      <td>1</td>\n",
       "      <td>311234.46</td>\n",
       "      <td>1635920550</td>\n",
       "      <td>311234.46</td>\n",
       "      <td>0.0</td>\n",
       "      <td>942070496</td>\n",
       "      <td>0.00</td>\n",
       "      <td>0.00</td>\n",
       "      <td>1</td>\n",
       "      <td>0</td>\n",
       "    </tr>\n",
       "    <tr>\n",
       "      <th>3596456</th>\n",
       "      <td>262</td>\n",
       "      <td>CASH_OUT</td>\n",
       "      <td>0</td>\n",
       "      <td>2914653.69</td>\n",
       "      <td>551410627</td>\n",
       "      <td>2914653.69</td>\n",
       "      <td>0.0</td>\n",
       "      <td>1503946435</td>\n",
       "      <td>558015.85</td>\n",
       "      <td>3472669.53</td>\n",
       "      <td>1</td>\n",
       "      <td>0</td>\n",
       "    </tr>\n",
       "    <tr>\n",
       "      <th>6200560</th>\n",
       "      <td>576</td>\n",
       "      <td>CASH_OUT</td>\n",
       "      <td>0</td>\n",
       "      <td>511389.50</td>\n",
       "      <td>399946871</td>\n",
       "      <td>511389.50</td>\n",
       "      <td>0.0</td>\n",
       "      <td>529880237</td>\n",
       "      <td>0.00</td>\n",
       "      <td>511389.50</td>\n",
       "      <td>1</td>\n",
       "      <td>0</td>\n",
       "    </tr>\n",
       "    <tr>\n",
       "      <th>...</th>\n",
       "      <td>...</td>\n",
       "      <td>...</td>\n",
       "      <td>...</td>\n",
       "      <td>...</td>\n",
       "      <td>...</td>\n",
       "      <td>...</td>\n",
       "      <td>...</td>\n",
       "      <td>...</td>\n",
       "      <td>...</td>\n",
       "      <td>...</td>\n",
       "      <td>...</td>\n",
       "      <td>...</td>\n",
       "    </tr>\n",
       "    <tr>\n",
       "      <th>1871234</th>\n",
       "      <td>164</td>\n",
       "      <td>CASH_OUT</td>\n",
       "      <td>0</td>\n",
       "      <td>320183.39</td>\n",
       "      <td>1069162034</td>\n",
       "      <td>0.00</td>\n",
       "      <td>0.0</td>\n",
       "      <td>536127678</td>\n",
       "      <td>2418877.08</td>\n",
       "      <td>2739060.47</td>\n",
       "      <td>0</td>\n",
       "      <td>0</td>\n",
       "    </tr>\n",
       "    <tr>\n",
       "      <th>6020957</th>\n",
       "      <td>466</td>\n",
       "      <td>TRANSFER</td>\n",
       "      <td>1</td>\n",
       "      <td>230806.85</td>\n",
       "      <td>549647828</td>\n",
       "      <td>230806.85</td>\n",
       "      <td>0.0</td>\n",
       "      <td>13373079</td>\n",
       "      <td>0.00</td>\n",
       "      <td>0.00</td>\n",
       "      <td>1</td>\n",
       "      <td>0</td>\n",
       "    </tr>\n",
       "    <tr>\n",
       "      <th>6020196</th>\n",
       "      <td>460</td>\n",
       "      <td>TRANSFER</td>\n",
       "      <td>1</td>\n",
       "      <td>998086.61</td>\n",
       "      <td>1107781229</td>\n",
       "      <td>998086.61</td>\n",
       "      <td>0.0</td>\n",
       "      <td>2074418507</td>\n",
       "      <td>0.00</td>\n",
       "      <td>0.00</td>\n",
       "      <td>1</td>\n",
       "      <td>0</td>\n",
       "    </tr>\n",
       "    <tr>\n",
       "      <th>5130243</th>\n",
       "      <td>356</td>\n",
       "      <td>TRANSFER</td>\n",
       "      <td>1</td>\n",
       "      <td>1557677.19</td>\n",
       "      <td>926148240</td>\n",
       "      <td>0.00</td>\n",
       "      <td>0.0</td>\n",
       "      <td>1243554532</td>\n",
       "      <td>5204149.02</td>\n",
       "      <td>7053007.31</td>\n",
       "      <td>0</td>\n",
       "      <td>0</td>\n",
       "    </tr>\n",
       "    <tr>\n",
       "      <th>2703722</th>\n",
       "      <td>211</td>\n",
       "      <td>CASH_OUT</td>\n",
       "      <td>0</td>\n",
       "      <td>405062.33</td>\n",
       "      <td>418222166</td>\n",
       "      <td>405062.33</td>\n",
       "      <td>0.0</td>\n",
       "      <td>690195469</td>\n",
       "      <td>1844185.94</td>\n",
       "      <td>2249248.27</td>\n",
       "      <td>1</td>\n",
       "      <td>0</td>\n",
       "    </tr>\n",
       "  </tbody>\n",
       "</table>\n",
       "<p>16910 rows × 12 columns</p>\n",
       "</div>"
      ],
      "text/plain": [
       "         step      type  type_num      amount    nameOrig  oldbalanceOrg  \\\n",
       "1294316   136  TRANSFER         1   387630.26  1745518985           0.00   \n",
       "3554467   260  TRANSFER         1   368716.96   746787141           0.00   \n",
       "6117187   528  TRANSFER         1   311234.46  1635920550      311234.46   \n",
       "3596456   262  CASH_OUT         0  2914653.69   551410627     2914653.69   \n",
       "6200560   576  CASH_OUT         0   511389.50   399946871      511389.50   \n",
       "...       ...       ...       ...         ...         ...            ...   \n",
       "1871234   164  CASH_OUT         0   320183.39  1069162034           0.00   \n",
       "6020957   466  TRANSFER         1   230806.85   549647828      230806.85   \n",
       "6020196   460  TRANSFER         1   998086.61  1107781229      998086.61   \n",
       "5130243   356  TRANSFER         1  1557677.19   926148240           0.00   \n",
       "2703722   211  CASH_OUT         0   405062.33   418222166      405062.33   \n",
       "\n",
       "         newbalanceOrig    nameDest  oldbalanceDest  newbalanceDest  isFraud  \\\n",
       "1294316             0.0  1307538437       474873.59       862503.86        0   \n",
       "3554467             0.0  2020724312       408277.39       776994.35        0   \n",
       "6117187             0.0   942070496            0.00            0.00        1   \n",
       "3596456             0.0  1503946435       558015.85      3472669.53        1   \n",
       "6200560             0.0   529880237            0.00       511389.50        1   \n",
       "...                 ...         ...             ...             ...      ...   \n",
       "1871234             0.0   536127678      2418877.08      2739060.47        0   \n",
       "6020957             0.0    13373079            0.00            0.00        1   \n",
       "6020196             0.0  2074418507            0.00            0.00        1   \n",
       "5130243             0.0  1243554532      5204149.02      7053007.31        0   \n",
       "2703722             0.0   690195469      1844185.94      2249248.27        1   \n",
       "\n",
       "         isFlaggedFraud  \n",
       "1294316               0  \n",
       "3554467               0  \n",
       "6117187               0  \n",
       "3596456               0  \n",
       "6200560               0  \n",
       "...                 ...  \n",
       "1871234               0  \n",
       "6020957               0  \n",
       "6020196               0  \n",
       "5130243               0  \n",
       "2703722               0  \n",
       "\n",
       "[16910 rows x 12 columns]"
      ]
     },
     "execution_count": 23,
     "metadata": {},
     "output_type": "execute_result"
    }
   ],
   "source": [
    "# converting these values into numeric data\n",
    "newng['nameDest'] = pd.to_numeric(newng['nameDest'])\n",
    "newng"
   ]
  },
  {
   "cell_type": "code",
   "execution_count": 24,
   "metadata": {},
   "outputs": [
    {
     "data": {
      "text/html": [
       "<div>\n",
       "<style scoped>\n",
       "    .dataframe tbody tr th:only-of-type {\n",
       "        vertical-align: middle;\n",
       "    }\n",
       "\n",
       "    .dataframe tbody tr th {\n",
       "        vertical-align: top;\n",
       "    }\n",
       "\n",
       "    .dataframe thead th {\n",
       "        text-align: right;\n",
       "    }\n",
       "</style>\n",
       "<table border=\"1\" class=\"dataframe\">\n",
       "  <thead>\n",
       "    <tr style=\"text-align: right;\">\n",
       "      <th></th>\n",
       "      <th>step</th>\n",
       "      <th>type</th>\n",
       "      <th>type_num</th>\n",
       "      <th>amount</th>\n",
       "      <th>nameOrig</th>\n",
       "      <th>oldbalanceOrg</th>\n",
       "      <th>newbalanceOrig</th>\n",
       "      <th>nameDest</th>\n",
       "      <th>oldbalanceDest</th>\n",
       "      <th>newbalanceDest</th>\n",
       "      <th>isFraud</th>\n",
       "      <th>isFlaggedFraud</th>\n",
       "    </tr>\n",
       "  </thead>\n",
       "  <tbody>\n",
       "    <tr>\n",
       "      <th>1294316</th>\n",
       "      <td>136</td>\n",
       "      <td>TRANSFER</td>\n",
       "      <td>1</td>\n",
       "      <td>387630.26</td>\n",
       "      <td>1745518985</td>\n",
       "      <td>0.00</td>\n",
       "      <td>0.0</td>\n",
       "      <td>1307538437</td>\n",
       "      <td>474873.59</td>\n",
       "      <td>862503.86</td>\n",
       "      <td>0</td>\n",
       "      <td>0</td>\n",
       "    </tr>\n",
       "    <tr>\n",
       "      <th>3554467</th>\n",
       "      <td>260</td>\n",
       "      <td>TRANSFER</td>\n",
       "      <td>1</td>\n",
       "      <td>368716.96</td>\n",
       "      <td>746787141</td>\n",
       "      <td>0.00</td>\n",
       "      <td>0.0</td>\n",
       "      <td>2020724312</td>\n",
       "      <td>408277.39</td>\n",
       "      <td>776994.35</td>\n",
       "      <td>0</td>\n",
       "      <td>0</td>\n",
       "    </tr>\n",
       "    <tr>\n",
       "      <th>6117187</th>\n",
       "      <td>528</td>\n",
       "      <td>TRANSFER</td>\n",
       "      <td>1</td>\n",
       "      <td>311234.46</td>\n",
       "      <td>1635920550</td>\n",
       "      <td>311234.46</td>\n",
       "      <td>0.0</td>\n",
       "      <td>942070496</td>\n",
       "      <td>0.00</td>\n",
       "      <td>0.00</td>\n",
       "      <td>1</td>\n",
       "      <td>0</td>\n",
       "    </tr>\n",
       "    <tr>\n",
       "      <th>3596456</th>\n",
       "      <td>262</td>\n",
       "      <td>CASH_OUT</td>\n",
       "      <td>0</td>\n",
       "      <td>2914653.69</td>\n",
       "      <td>551410627</td>\n",
       "      <td>2914653.69</td>\n",
       "      <td>0.0</td>\n",
       "      <td>1503946435</td>\n",
       "      <td>558015.85</td>\n",
       "      <td>3472669.53</td>\n",
       "      <td>1</td>\n",
       "      <td>0</td>\n",
       "    </tr>\n",
       "    <tr>\n",
       "      <th>6200560</th>\n",
       "      <td>576</td>\n",
       "      <td>CASH_OUT</td>\n",
       "      <td>0</td>\n",
       "      <td>511389.50</td>\n",
       "      <td>399946871</td>\n",
       "      <td>511389.50</td>\n",
       "      <td>0.0</td>\n",
       "      <td>529880237</td>\n",
       "      <td>0.00</td>\n",
       "      <td>511389.50</td>\n",
       "      <td>1</td>\n",
       "      <td>0</td>\n",
       "    </tr>\n",
       "    <tr>\n",
       "      <th>...</th>\n",
       "      <td>...</td>\n",
       "      <td>...</td>\n",
       "      <td>...</td>\n",
       "      <td>...</td>\n",
       "      <td>...</td>\n",
       "      <td>...</td>\n",
       "      <td>...</td>\n",
       "      <td>...</td>\n",
       "      <td>...</td>\n",
       "      <td>...</td>\n",
       "      <td>...</td>\n",
       "      <td>...</td>\n",
       "    </tr>\n",
       "    <tr>\n",
       "      <th>1871234</th>\n",
       "      <td>164</td>\n",
       "      <td>CASH_OUT</td>\n",
       "      <td>0</td>\n",
       "      <td>320183.39</td>\n",
       "      <td>1069162034</td>\n",
       "      <td>0.00</td>\n",
       "      <td>0.0</td>\n",
       "      <td>536127678</td>\n",
       "      <td>2418877.08</td>\n",
       "      <td>2739060.47</td>\n",
       "      <td>0</td>\n",
       "      <td>0</td>\n",
       "    </tr>\n",
       "    <tr>\n",
       "      <th>6020957</th>\n",
       "      <td>466</td>\n",
       "      <td>TRANSFER</td>\n",
       "      <td>1</td>\n",
       "      <td>230806.85</td>\n",
       "      <td>549647828</td>\n",
       "      <td>230806.85</td>\n",
       "      <td>0.0</td>\n",
       "      <td>13373079</td>\n",
       "      <td>0.00</td>\n",
       "      <td>0.00</td>\n",
       "      <td>1</td>\n",
       "      <td>0</td>\n",
       "    </tr>\n",
       "    <tr>\n",
       "      <th>6020196</th>\n",
       "      <td>460</td>\n",
       "      <td>TRANSFER</td>\n",
       "      <td>1</td>\n",
       "      <td>998086.61</td>\n",
       "      <td>1107781229</td>\n",
       "      <td>998086.61</td>\n",
       "      <td>0.0</td>\n",
       "      <td>2074418507</td>\n",
       "      <td>0.00</td>\n",
       "      <td>0.00</td>\n",
       "      <td>1</td>\n",
       "      <td>0</td>\n",
       "    </tr>\n",
       "    <tr>\n",
       "      <th>5130243</th>\n",
       "      <td>356</td>\n",
       "      <td>TRANSFER</td>\n",
       "      <td>1</td>\n",
       "      <td>1557677.19</td>\n",
       "      <td>926148240</td>\n",
       "      <td>0.00</td>\n",
       "      <td>0.0</td>\n",
       "      <td>1243554532</td>\n",
       "      <td>5204149.02</td>\n",
       "      <td>7053007.31</td>\n",
       "      <td>0</td>\n",
       "      <td>0</td>\n",
       "    </tr>\n",
       "    <tr>\n",
       "      <th>2703722</th>\n",
       "      <td>211</td>\n",
       "      <td>CASH_OUT</td>\n",
       "      <td>0</td>\n",
       "      <td>405062.33</td>\n",
       "      <td>418222166</td>\n",
       "      <td>405062.33</td>\n",
       "      <td>0.0</td>\n",
       "      <td>690195469</td>\n",
       "      <td>1844185.94</td>\n",
       "      <td>2249248.27</td>\n",
       "      <td>1</td>\n",
       "      <td>0</td>\n",
       "    </tr>\n",
       "  </tbody>\n",
       "</table>\n",
       "<p>16910 rows × 12 columns</p>\n",
       "</div>"
      ],
      "text/plain": [
       "         step      type  type_num      amount    nameOrig  oldbalanceOrg  \\\n",
       "1294316   136  TRANSFER         1   387630.26  1745518985           0.00   \n",
       "3554467   260  TRANSFER         1   368716.96   746787141           0.00   \n",
       "6117187   528  TRANSFER         1   311234.46  1635920550      311234.46   \n",
       "3596456   262  CASH_OUT         0  2914653.69   551410627     2914653.69   \n",
       "6200560   576  CASH_OUT         0   511389.50   399946871      511389.50   \n",
       "...       ...       ...       ...         ...         ...            ...   \n",
       "1871234   164  CASH_OUT         0   320183.39  1069162034           0.00   \n",
       "6020957   466  TRANSFER         1   230806.85   549647828      230806.85   \n",
       "6020196   460  TRANSFER         1   998086.61  1107781229      998086.61   \n",
       "5130243   356  TRANSFER         1  1557677.19   926148240           0.00   \n",
       "2703722   211  CASH_OUT         0   405062.33   418222166      405062.33   \n",
       "\n",
       "         newbalanceOrig    nameDest  oldbalanceDest  newbalanceDest  isFraud  \\\n",
       "1294316             0.0  1307538437       474873.59       862503.86        0   \n",
       "3554467             0.0  2020724312       408277.39       776994.35        0   \n",
       "6117187             0.0   942070496            0.00            0.00        1   \n",
       "3596456             0.0  1503946435       558015.85      3472669.53        1   \n",
       "6200560             0.0   529880237            0.00       511389.50        1   \n",
       "...                 ...         ...             ...             ...      ...   \n",
       "1871234             0.0   536127678      2418877.08      2739060.47        0   \n",
       "6020957             0.0    13373079            0.00            0.00        1   \n",
       "6020196             0.0  2074418507            0.00            0.00        1   \n",
       "5130243             0.0  1243554532      5204149.02      7053007.31        0   \n",
       "2703722             0.0   690195469      1844185.94      2249248.27        1   \n",
       "\n",
       "         isFlaggedFraud  \n",
       "1294316               0  \n",
       "3554467               0  \n",
       "6117187               0  \n",
       "3596456               0  \n",
       "6200560               0  \n",
       "...                 ...  \n",
       "1871234               0  \n",
       "6020957               0  \n",
       "6020196               0  \n",
       "5130243               0  \n",
       "2703722               0  \n",
       "\n",
       "[16910 rows x 12 columns]"
      ]
     },
     "execution_count": 24,
     "metadata": {},
     "output_type": "execute_result"
    }
   ],
   "source": [
    "newng['nameOrig'] = pd.to_numeric(newng['nameOrig'])\n",
    "newng"
   ]
  },
  {
   "cell_type": "code",
   "execution_count": 25,
   "metadata": {},
   "outputs": [],
   "source": [
    "#dropping the unwanted columns\n",
    "#also dropping the target variable\n",
    "Data1=newng.drop(columns =['type','isFraud'])"
   ]
  },
  {
   "cell_type": "code",
   "execution_count": 26,
   "metadata": {},
   "outputs": [
    {
     "data": {
      "text/html": [
       "<div>\n",
       "<style scoped>\n",
       "    .dataframe tbody tr th:only-of-type {\n",
       "        vertical-align: middle;\n",
       "    }\n",
       "\n",
       "    .dataframe tbody tr th {\n",
       "        vertical-align: top;\n",
       "    }\n",
       "\n",
       "    .dataframe thead th {\n",
       "        text-align: right;\n",
       "    }\n",
       "</style>\n",
       "<table border=\"1\" class=\"dataframe\">\n",
       "  <thead>\n",
       "    <tr style=\"text-align: right;\">\n",
       "      <th></th>\n",
       "      <th>step</th>\n",
       "      <th>type_num</th>\n",
       "      <th>amount</th>\n",
       "      <th>nameOrig</th>\n",
       "      <th>oldbalanceOrg</th>\n",
       "      <th>newbalanceOrig</th>\n",
       "      <th>nameDest</th>\n",
       "      <th>oldbalanceDest</th>\n",
       "      <th>newbalanceDest</th>\n",
       "      <th>isFlaggedFraud</th>\n",
       "    </tr>\n",
       "  </thead>\n",
       "  <tbody>\n",
       "    <tr>\n",
       "      <th>1294316</th>\n",
       "      <td>136</td>\n",
       "      <td>1</td>\n",
       "      <td>387630.26</td>\n",
       "      <td>1745518985</td>\n",
       "      <td>0.00</td>\n",
       "      <td>0.0</td>\n",
       "      <td>1307538437</td>\n",
       "      <td>474873.59</td>\n",
       "      <td>862503.86</td>\n",
       "      <td>0</td>\n",
       "    </tr>\n",
       "    <tr>\n",
       "      <th>3554467</th>\n",
       "      <td>260</td>\n",
       "      <td>1</td>\n",
       "      <td>368716.96</td>\n",
       "      <td>746787141</td>\n",
       "      <td>0.00</td>\n",
       "      <td>0.0</td>\n",
       "      <td>2020724312</td>\n",
       "      <td>408277.39</td>\n",
       "      <td>776994.35</td>\n",
       "      <td>0</td>\n",
       "    </tr>\n",
       "    <tr>\n",
       "      <th>6117187</th>\n",
       "      <td>528</td>\n",
       "      <td>1</td>\n",
       "      <td>311234.46</td>\n",
       "      <td>1635920550</td>\n",
       "      <td>311234.46</td>\n",
       "      <td>0.0</td>\n",
       "      <td>942070496</td>\n",
       "      <td>0.00</td>\n",
       "      <td>0.00</td>\n",
       "      <td>0</td>\n",
       "    </tr>\n",
       "    <tr>\n",
       "      <th>3596456</th>\n",
       "      <td>262</td>\n",
       "      <td>0</td>\n",
       "      <td>2914653.69</td>\n",
       "      <td>551410627</td>\n",
       "      <td>2914653.69</td>\n",
       "      <td>0.0</td>\n",
       "      <td>1503946435</td>\n",
       "      <td>558015.85</td>\n",
       "      <td>3472669.53</td>\n",
       "      <td>0</td>\n",
       "    </tr>\n",
       "    <tr>\n",
       "      <th>6200560</th>\n",
       "      <td>576</td>\n",
       "      <td>0</td>\n",
       "      <td>511389.50</td>\n",
       "      <td>399946871</td>\n",
       "      <td>511389.50</td>\n",
       "      <td>0.0</td>\n",
       "      <td>529880237</td>\n",
       "      <td>0.00</td>\n",
       "      <td>511389.50</td>\n",
       "      <td>0</td>\n",
       "    </tr>\n",
       "    <tr>\n",
       "      <th>...</th>\n",
       "      <td>...</td>\n",
       "      <td>...</td>\n",
       "      <td>...</td>\n",
       "      <td>...</td>\n",
       "      <td>...</td>\n",
       "      <td>...</td>\n",
       "      <td>...</td>\n",
       "      <td>...</td>\n",
       "      <td>...</td>\n",
       "      <td>...</td>\n",
       "    </tr>\n",
       "    <tr>\n",
       "      <th>1871234</th>\n",
       "      <td>164</td>\n",
       "      <td>0</td>\n",
       "      <td>320183.39</td>\n",
       "      <td>1069162034</td>\n",
       "      <td>0.00</td>\n",
       "      <td>0.0</td>\n",
       "      <td>536127678</td>\n",
       "      <td>2418877.08</td>\n",
       "      <td>2739060.47</td>\n",
       "      <td>0</td>\n",
       "    </tr>\n",
       "    <tr>\n",
       "      <th>6020957</th>\n",
       "      <td>466</td>\n",
       "      <td>1</td>\n",
       "      <td>230806.85</td>\n",
       "      <td>549647828</td>\n",
       "      <td>230806.85</td>\n",
       "      <td>0.0</td>\n",
       "      <td>13373079</td>\n",
       "      <td>0.00</td>\n",
       "      <td>0.00</td>\n",
       "      <td>0</td>\n",
       "    </tr>\n",
       "    <tr>\n",
       "      <th>6020196</th>\n",
       "      <td>460</td>\n",
       "      <td>1</td>\n",
       "      <td>998086.61</td>\n",
       "      <td>1107781229</td>\n",
       "      <td>998086.61</td>\n",
       "      <td>0.0</td>\n",
       "      <td>2074418507</td>\n",
       "      <td>0.00</td>\n",
       "      <td>0.00</td>\n",
       "      <td>0</td>\n",
       "    </tr>\n",
       "    <tr>\n",
       "      <th>5130243</th>\n",
       "      <td>356</td>\n",
       "      <td>1</td>\n",
       "      <td>1557677.19</td>\n",
       "      <td>926148240</td>\n",
       "      <td>0.00</td>\n",
       "      <td>0.0</td>\n",
       "      <td>1243554532</td>\n",
       "      <td>5204149.02</td>\n",
       "      <td>7053007.31</td>\n",
       "      <td>0</td>\n",
       "    </tr>\n",
       "    <tr>\n",
       "      <th>2703722</th>\n",
       "      <td>211</td>\n",
       "      <td>0</td>\n",
       "      <td>405062.33</td>\n",
       "      <td>418222166</td>\n",
       "      <td>405062.33</td>\n",
       "      <td>0.0</td>\n",
       "      <td>690195469</td>\n",
       "      <td>1844185.94</td>\n",
       "      <td>2249248.27</td>\n",
       "      <td>0</td>\n",
       "    </tr>\n",
       "  </tbody>\n",
       "</table>\n",
       "<p>16910 rows × 10 columns</p>\n",
       "</div>"
      ],
      "text/plain": [
       "         step  type_num      amount    nameOrig  oldbalanceOrg  \\\n",
       "1294316   136         1   387630.26  1745518985           0.00   \n",
       "3554467   260         1   368716.96   746787141           0.00   \n",
       "6117187   528         1   311234.46  1635920550      311234.46   \n",
       "3596456   262         0  2914653.69   551410627     2914653.69   \n",
       "6200560   576         0   511389.50   399946871      511389.50   \n",
       "...       ...       ...         ...         ...            ...   \n",
       "1871234   164         0   320183.39  1069162034           0.00   \n",
       "6020957   466         1   230806.85   549647828      230806.85   \n",
       "6020196   460         1   998086.61  1107781229      998086.61   \n",
       "5130243   356         1  1557677.19   926148240           0.00   \n",
       "2703722   211         0   405062.33   418222166      405062.33   \n",
       "\n",
       "         newbalanceOrig    nameDest  oldbalanceDest  newbalanceDest  \\\n",
       "1294316             0.0  1307538437       474873.59       862503.86   \n",
       "3554467             0.0  2020724312       408277.39       776994.35   \n",
       "6117187             0.0   942070496            0.00            0.00   \n",
       "3596456             0.0  1503946435       558015.85      3472669.53   \n",
       "6200560             0.0   529880237            0.00       511389.50   \n",
       "...                 ...         ...             ...             ...   \n",
       "1871234             0.0   536127678      2418877.08      2739060.47   \n",
       "6020957             0.0    13373079            0.00            0.00   \n",
       "6020196             0.0  2074418507            0.00            0.00   \n",
       "5130243             0.0  1243554532      5204149.02      7053007.31   \n",
       "2703722             0.0   690195469      1844185.94      2249248.27   \n",
       "\n",
       "         isFlaggedFraud  \n",
       "1294316               0  \n",
       "3554467               0  \n",
       "6117187               0  \n",
       "3596456               0  \n",
       "6200560               0  \n",
       "...                 ...  \n",
       "1871234               0  \n",
       "6020957               0  \n",
       "6020196               0  \n",
       "5130243               0  \n",
       "2703722               0  \n",
       "\n",
       "[16910 rows x 10 columns]"
      ]
     },
     "execution_count": 26,
     "metadata": {},
     "output_type": "execute_result"
    }
   ],
   "source": [
    "Data1"
   ]
  },
  {
   "cell_type": "code",
   "execution_count": 27,
   "metadata": {},
   "outputs": [
    {
     "data": {
      "text/plain": [
       "1294316    0\n",
       "3554467    0\n",
       "6117187    1\n",
       "3596456    1\n",
       "6200560    1\n",
       "          ..\n",
       "1871234    0\n",
       "6020957    1\n",
       "6020196    1\n",
       "5130243    0\n",
       "2703722    1\n",
       "Name: isFraud, Length: 16910, dtype: int64"
      ]
     },
     "execution_count": 27,
     "metadata": {},
     "output_type": "execute_result"
    }
   ],
   "source": [
    "y=newng.isFraud\n",
    "y"
   ]
  },
  {
   "cell_type": "code",
   "execution_count": 28,
   "metadata": {},
   "outputs": [
    {
     "data": {
      "text/plain": [
       "ExtraTreesClassifier()"
      ]
     },
     "execution_count": 28,
     "metadata": {},
     "output_type": "execute_result"
    }
   ],
   "source": [
    "#Irrelevant or partially relevant features can negatively impact model performance.\n",
    "#so using feature importance here\n",
    "from sklearn.ensemble import ExtraTreesClassifier\n",
    "import matplotlib.pyplot as plt\n",
    "model = ExtraTreesClassifier()\n",
    "model.fit(Data1,y)"
   ]
  },
  {
   "cell_type": "code",
   "execution_count": 29,
   "metadata": {},
   "outputs": [
    {
     "name": "stdout",
     "output_type": "stream",
     "text": [
      "[0.17733703 0.03164674 0.12248246 0.01755953 0.36568427 0.03681282\n",
      " 0.01707171 0.09571317 0.13520962 0.00048267]\n"
     ]
    }
   ],
   "source": [
    "print(model.feature_importances_)"
   ]
  },
  {
   "cell_type": "code",
   "execution_count": 30,
   "metadata": {},
   "outputs": [
    {
     "data": {
      "image/png": "[encoded data removed]",
      "text/plain": [
       "<Figure size 432x288 with 1 Axes>"
      ]
     },
     "metadata": {
      "needs_background": "light"
     },
     "output_type": "display_data"
    }
   ],
   "source": [
    "#ploting graph of feature importances for better visualization\n",
    "feature_importances = pd.Series(model.feature_importances_, index=Data1.columns)\n",
    "feature_importances.plot(kind='barh')\n",
    "plt.show()"
   ]
  },
  {
   "cell_type": "code",
   "execution_count": 31,
   "metadata": {},
   "outputs": [
    {
     "data": {
      "image/png": "[encoded data removed]",
      "text/plain": [
       "<Figure size 1080x1080 with 2 Axes>"
      ]
     },
     "metadata": {
      "needs_background": "light"
     },
     "output_type": "display_data"
    }
   ],
   "source": [
    "#checking the correlation also\n",
    "import seaborn as sns\n",
    "corrmat = Data1.corr()\n",
    "top_corr_features = corrmat.index\n",
    "plt.figure(figsize=(15,15))\n",
    "#plot heat map\n",
    "g=sns.heatmap(Data1[top_corr_features].corr(),annot=True,cmap=\"RdYlGn\")"
   ]
  },
  {
   "cell_type": "code",
   "execution_count": 32,
   "metadata": {},
   "outputs": [],
   "source": [
    "#from above plots, it is clear that the features \"nameOrig\",\"nameDest\",\"isFlaggedFraud\" doesn't play a major role in decision making\n",
    "#basically the feauters \"nameOrig\",\"nameDest\" are just some string values which has no significance to our data\n",
    "X= Data1.drop([\"nameOrig\",\"nameDest\",\"isFlaggedFraud\"],axis=1)"
   ]
  },
  {
   "cell_type": "code",
   "execution_count": 33,
   "metadata": {},
   "outputs": [
    {
     "data": {
      "text/html": [
       "<div>\n",
       "<style scoped>\n",
       "    .dataframe tbody tr th:only-of-type {\n",
       "        vertical-align: middle;\n",
       "    }\n",
       "\n",
       "    .dataframe tbody tr th {\n",
       "        vertical-align: top;\n",
       "    }\n",
       "\n",
       "    .dataframe thead th {\n",
       "        text-align: right;\n",
       "    }\n",
       "</style>\n",
       "<table border=\"1\" class=\"dataframe\">\n",
       "  <thead>\n",
       "    <tr style=\"text-align: right;\">\n",
       "      <th></th>\n",
       "      <th>step</th>\n",
       "      <th>type_num</th>\n",
       "      <th>amount</th>\n",
       "      <th>oldbalanceOrg</th>\n",
       "      <th>newbalanceOrig</th>\n",
       "      <th>oldbalanceDest</th>\n",
       "      <th>newbalanceDest</th>\n",
       "    </tr>\n",
       "  </thead>\n",
       "  <tbody>\n",
       "    <tr>\n",
       "      <th>1294316</th>\n",
       "      <td>136</td>\n",
       "      <td>1</td>\n",
       "      <td>387630.26</td>\n",
       "      <td>0.00</td>\n",
       "      <td>0.0</td>\n",
       "      <td>474873.59</td>\n",
       "      <td>862503.86</td>\n",
       "    </tr>\n",
       "    <tr>\n",
       "      <th>3554467</th>\n",
       "      <td>260</td>\n",
       "      <td>1</td>\n",
       "      <td>368716.96</td>\n",
       "      <td>0.00</td>\n",
       "      <td>0.0</td>\n",
       "      <td>408277.39</td>\n",
       "      <td>776994.35</td>\n",
       "    </tr>\n",
       "    <tr>\n",
       "      <th>6117187</th>\n",
       "      <td>528</td>\n",
       "      <td>1</td>\n",
       "      <td>311234.46</td>\n",
       "      <td>311234.46</td>\n",
       "      <td>0.0</td>\n",
       "      <td>0.00</td>\n",
       "      <td>0.00</td>\n",
       "    </tr>\n",
       "    <tr>\n",
       "      <th>3596456</th>\n",
       "      <td>262</td>\n",
       "      <td>0</td>\n",
       "      <td>2914653.69</td>\n",
       "      <td>2914653.69</td>\n",
       "      <td>0.0</td>\n",
       "      <td>558015.85</td>\n",
       "      <td>3472669.53</td>\n",
       "    </tr>\n",
       "    <tr>\n",
       "      <th>6200560</th>\n",
       "      <td>576</td>\n",
       "      <td>0</td>\n",
       "      <td>511389.50</td>\n",
       "      <td>511389.50</td>\n",
       "      <td>0.0</td>\n",
       "      <td>0.00</td>\n",
       "      <td>511389.50</td>\n",
       "    </tr>\n",
       "    <tr>\n",
       "      <th>...</th>\n",
       "      <td>...</td>\n",
       "      <td>...</td>\n",
       "      <td>...</td>\n",
       "      <td>...</td>\n",
       "      <td>...</td>\n",
       "      <td>...</td>\n",
       "      <td>...</td>\n",
       "    </tr>\n",
       "    <tr>\n",
       "      <th>1871234</th>\n",
       "      <td>164</td>\n",
       "      <td>0</td>\n",
       "      <td>320183.39</td>\n",
       "      <td>0.00</td>\n",
       "      <td>0.0</td>\n",
       "      <td>2418877.08</td>\n",
       "      <td>2739060.47</td>\n",
       "    </tr>\n",
       "    <tr>\n",
       "      <th>6020957</th>\n",
       "      <td>466</td>\n",
       "      <td>1</td>\n",
       "      <td>230806.85</td>\n",
       "      <td>230806.85</td>\n",
       "      <td>0.0</td>\n",
       "      <td>0.00</td>\n",
       "      <td>0.00</td>\n",
       "    </tr>\n",
       "    <tr>\n",
       "      <th>6020196</th>\n",
       "      <td>460</td>\n",
       "      <td>1</td>\n",
       "      <td>998086.61</td>\n",
       "      <td>998086.61</td>\n",
       "      <td>0.0</td>\n",
       "      <td>0.00</td>\n",
       "      <td>0.00</td>\n",
       "    </tr>\n",
       "    <tr>\n",
       "      <th>5130243</th>\n",
       "      <td>356</td>\n",
       "      <td>1</td>\n",
       "      <td>1557677.19</td>\n",
       "      <td>0.00</td>\n",
       "      <td>0.0</td>\n",
       "      <td>5204149.02</td>\n",
       "      <td>7053007.31</td>\n",
       "    </tr>\n",
       "    <tr>\n",
       "      <th>2703722</th>\n",
       "      <td>211</td>\n",
       "      <td>0</td>\n",
       "      <td>405062.33</td>\n",
       "      <td>405062.33</td>\n",
       "      <td>0.0</td>\n",
       "      <td>1844185.94</td>\n",
       "      <td>2249248.27</td>\n",
       "    </tr>\n",
       "  </tbody>\n",
       "</table>\n",
       "<p>16910 rows × 7 columns</p>\n",
       "</div>"
      ],
      "text/plain": [
       "         step  type_num      amount  oldbalanceOrg  newbalanceOrig  \\\n",
       "1294316   136         1   387630.26           0.00             0.0   \n",
       "3554467   260         1   368716.96           0.00             0.0   \n",
       "6117187   528         1   311234.46      311234.46             0.0   \n",
       "3596456   262         0  2914653.69     2914653.69             0.0   \n",
       "6200560   576         0   511389.50      511389.50             0.0   \n",
       "...       ...       ...         ...            ...             ...   \n",
       "1871234   164         0   320183.39           0.00             0.0   \n",
       "6020957   466         1   230806.85      230806.85             0.0   \n",
       "6020196   460         1   998086.61      998086.61             0.0   \n",
       "5130243   356         1  1557677.19           0.00             0.0   \n",
       "2703722   211         0   405062.33      405062.33             0.0   \n",
       "\n",
       "         oldbalanceDest  newbalanceDest  \n",
       "1294316       474873.59       862503.86  \n",
       "3554467       408277.39       776994.35  \n",
       "6117187            0.00            0.00  \n",
       "3596456       558015.85      3472669.53  \n",
       "6200560            0.00       511389.50  \n",
       "...                 ...             ...  \n",
       "1871234      2418877.08      2739060.47  \n",
       "6020957            0.00            0.00  \n",
       "6020196            0.00            0.00  \n",
       "5130243      5204149.02      7053007.31  \n",
       "2703722      1844185.94      2249248.27  \n",
       "\n",
       "[16910 rows x 7 columns]"
      ]
     },
     "execution_count": 33,
     "metadata": {},
     "output_type": "execute_result"
    }
   ],
   "source": [
    "X"
   ]
  },
  {
   "cell_type": "code",
   "execution_count": 34,
   "metadata": {},
   "outputs": [
    {
     "data": {
      "text/plain": [
       "1294316    0\n",
       "3554467    0\n",
       "6117187    1\n",
       "3596456    1\n",
       "6200560    1\n",
       "          ..\n",
       "1871234    0\n",
       "6020957    1\n",
       "6020196    1\n",
       "5130243    0\n",
       "2703722    1\n",
       "Name: isFraud, Length: 16910, dtype: int64"
      ]
     },
     "execution_count": 34,
     "metadata": {},
     "output_type": "execute_result"
    }
   ],
   "source": [
    "y"
   ]
  },
  {
   "cell_type": "code",
   "execution_count": 35,
   "metadata": {},
   "outputs": [],
   "source": [
    "from sklearn.model_selection import train_test_split\n",
    "X_train, X_test, y_train, y_test = train_test_split(X, y, test_size = 0.2, random_state = 0)"
   ]
  },
  {
   "cell_type": "code",
   "execution_count": 36,
   "metadata": {},
   "outputs": [],
   "source": [
    "# the range of values for each feauters is widely scattered. so performed feature scalling\n",
    "from sklearn.preprocessing import StandardScaler\n",
    "sc = StandardScaler()\n",
    "X_train = sc.fit_transform(X_train)\n",
    "X_test = sc.transform(X_test)"
   ]
  },
  {
   "cell_type": "markdown",
   "metadata": {},
   "source": [
    "## Preprocessing is Done.\n",
    "### dataset is ready for classification"
   ]
  },
  {
   "cell_type": "markdown",
   "metadata": {},
   "source": [
    "#### Using Logistic Regression"
   ]
  },
  {
   "cell_type": "code",
   "execution_count": 37,
   "metadata": {},
   "outputs": [
    {
     "data": {
      "text/plain": [
       "LogisticRegression()"
      ]
     },
     "execution_count": 37,
     "metadata": {},
     "output_type": "execute_result"
    }
   ],
   "source": [
    "from sklearn.linear_model import LogisticRegression\n",
    "lr = LogisticRegression()\n",
    "lr.fit(X_train, y_train)"
   ]
  },
  {
   "cell_type": "code",
   "execution_count": 38,
   "metadata": {},
   "outputs": [],
   "source": [
    "y_pred = lr.predict(X_test)"
   ]
  },
  {
   "cell_type": "code",
   "execution_count": 39,
   "metadata": {},
   "outputs": [
    {
     "name": "stdout",
     "output_type": "stream",
     "text": [
      "              precision    recall  f1-score   support\n",
      "\n",
      "           0       0.88      0.94      0.91      1730\n",
      "           1       0.93      0.87      0.90      1652\n",
      "\n",
      "    accuracy                           0.90      3382\n",
      "   macro avg       0.91      0.90      0.90      3382\n",
      "weighted avg       0.91      0.90      0.90      3382\n",
      "\n"
     ]
    }
   ],
   "source": [
    "from sklearn.metrics import classification_report\n",
    "print(classification_report(y_test,y_pred))"
   ]
  },
  {
   "cell_type": "code",
   "execution_count": 40,
   "metadata": {},
   "outputs": [
    {
     "data": {
      "text/plain": [
       "Text(69.0, 0.5, 'Truth')"
      ]
     },
     "execution_count": 40,
     "metadata": {},
     "output_type": "execute_result"
    },
    {
     "data": {
      "image/png": "[encoded data removed]",
      "text/plain": [
       "<Figure size 720x504 with 2 Axes>"
      ]
     },
     "metadata": {
      "needs_background": "light"
     },
     "output_type": "display_data"
    }
   ],
   "source": [
    "import seaborn as sn\n",
    "import tensorflow as tf\n",
    "cm = tf.math.confusion_matrix(labels=y_test,predictions=y_pred)\n",
    "\n",
    "plt.figure(figsize = (10,7))\n",
    "sn.heatmap(cm, annot=True, fmt='d')\n",
    "plt.xlabel('Predicted')\n",
    "plt.ylabel('Truth')"
   ]
  },
  {
   "cell_type": "markdown",
   "metadata": {},
   "source": [
    "#### using Naive bayes\n"
   ]
  },
  {
   "cell_type": "code",
   "execution_count": 42,
   "metadata": {},
   "outputs": [
    {
     "data": {
      "text/plain": [
       "GaussianNB()"
      ]
     },
     "execution_count": 42,
     "metadata": {},
     "output_type": "execute_result"
    }
   ],
   "source": [
    "from sklearn.naive_bayes import GaussianNB\n",
    "sa= GaussianNB()\n",
    "sa.fit(X_train, y_train)"
   ]
  },
  {
   "cell_type": "code",
   "execution_count": 43,
   "metadata": {},
   "outputs": [],
   "source": [
    "y_pred = sa.predict(X_test)"
   ]
  },
  {
   "cell_type": "code",
   "execution_count": 44,
   "metadata": {},
   "outputs": [
    {
     "data": {
      "text/plain": [
       "array([1, 1, 0, ..., 1, 0, 0], dtype=int64)"
      ]
     },
     "execution_count": 44,
     "metadata": {},
     "output_type": "execute_result"
    }
   ],
   "source": [
    "y_pred"
   ]
  },
  {
   "cell_type": "code",
   "execution_count": 45,
   "metadata": {},
   "outputs": [
    {
     "name": "stdout",
     "output_type": "stream",
     "text": [
      "              precision    recall  f1-score   support\n",
      "\n",
      "           0       0.68      0.97      0.80      1730\n",
      "           1       0.94      0.53      0.68      1652\n",
      "\n",
      "    accuracy                           0.75      3382\n",
      "   macro avg       0.81      0.75      0.74      3382\n",
      "weighted avg       0.81      0.75      0.74      3382\n",
      "\n"
     ]
    }
   ],
   "source": [
    "print(classification_report(y_test,y_pred))"
   ]
  },
  {
   "cell_type": "code",
   "execution_count": 46,
   "metadata": {},
   "outputs": [
    {
     "data": {
      "text/plain": [
       "Text(69.0, 0.5, 'Truth')"
      ]
     },
     "execution_count": 46,
     "metadata": {},
     "output_type": "execute_result"
    },
    {
     "data": {
      "image/png": "[encoded data removed]",
      "text/plain": [
       "<Figure size 720x504 with 2 Axes>"
      ]
     },
     "metadata": {
      "needs_background": "light"
     },
     "output_type": "display_data"
    }
   ],
   "source": [
    "cm = tf.math.confusion_matrix(labels=y_test,predictions=y_pred)\n",
    "\n",
    "plt.figure(figsize = (10,7))\n",
    "sn.heatmap(cm, annot=True, fmt='d')\n",
    "plt.xlabel('Predicted')\n",
    "plt.ylabel('Truth')"
   ]
  },
  {
   "cell_type": "markdown",
   "metadata": {},
   "source": [
    "#### USING SVM\n"
   ]
  },
  {
   "cell_type": "code",
   "execution_count": 47,
   "metadata": {},
   "outputs": [
    {
     "data": {
      "text/plain": [
       "SVC()"
      ]
     },
     "execution_count": 47,
     "metadata": {},
     "output_type": "execute_result"
    }
   ],
   "source": [
    "from sklearn.svm import SVC\n",
    "classifier = SVC()\n",
    "classifier.fit(X_train, y_train)"
   ]
  },
  {
   "cell_type": "code",
   "execution_count": 48,
   "metadata": {},
   "outputs": [
    {
     "data": {
      "text/plain": [
       "array([1, 1, 0, ..., 0, 1, 0], dtype=int64)"
      ]
     },
     "execution_count": 48,
     "metadata": {},
     "output_type": "execute_result"
    }
   ],
   "source": [
    "y_pred = classifier.predict(X_test)\n",
    "y_pred"
   ]
  },
  {
   "cell_type": "code",
   "execution_count": 49,
   "metadata": {},
   "outputs": [
    {
     "name": "stdout",
     "output_type": "stream",
     "text": [
      "              precision    recall  f1-score   support\n",
      "\n",
      "           0       0.88      0.94      0.91      1730\n",
      "           1       0.93      0.87      0.90      1652\n",
      "\n",
      "    accuracy                           0.91      3382\n",
      "   macro avg       0.91      0.91      0.91      3382\n",
      "weighted avg       0.91      0.91      0.91      3382\n",
      "\n"
     ]
    }
   ],
   "source": [
    "print(classification_report(y_test,y_pred))"
   ]
  },
  {
   "cell_type": "code",
   "execution_count": 50,
   "metadata": {},
   "outputs": [
    {
     "data": {
      "text/plain": [
       "Text(69.0, 0.5, 'Truth')"
      ]
     },
     "execution_count": 50,
     "metadata": {},
     "output_type": "execute_result"
    },
    {
     "data": {
      "image/png": "[encoded data removed]",
      "text/plain": [
       "<Figure size 720x504 with 2 Axes>"
      ]
     },
     "metadata": {
      "needs_background": "light"
     },
     "output_type": "display_data"
    }
   ],
   "source": [
    "cm = tf.math.confusion_matrix(labels=y_test,predictions=y_pred)\n",
    "\n",
    "plt.figure(figsize = (10,7))\n",
    "sn.heatmap(cm, annot=True, fmt='d')\n",
    "plt.xlabel('Predicted')\n",
    "plt.ylabel('Truth')"
   ]
  },
  {
   "cell_type": "markdown",
   "metadata": {},
   "source": [
    "####  using Decision tree\n"
   ]
  },
  {
   "cell_type": "code",
   "execution_count": 51,
   "metadata": {},
   "outputs": [
    {
     "data": {
      "text/plain": [
       "DecisionTreeClassifier(criterion='entropy')"
      ]
     },
     "execution_count": 51,
     "metadata": {},
     "output_type": "execute_result"
    }
   ],
   "source": [
    "from sklearn.tree import DecisionTreeClassifier\n",
    "from sklearn import tree\n",
    "dt = DecisionTreeClassifier(criterion = 'entropy')\n",
    "dt.fit(X_train, y_train)"
   ]
  },
  {
   "cell_type": "code",
   "execution_count": 52,
   "metadata": {},
   "outputs": [
    {
     "data": {
      "text/plain": [
       "array([1, 1, 0, ..., 0, 0, 0], dtype=int64)"
      ]
     },
     "execution_count": 52,
     "metadata": {},
     "output_type": "execute_result"
    }
   ],
   "source": [
    "y_pred = dt.predict(X_test)\n",
    "y_pred"
   ]
  },
  {
   "cell_type": "code",
   "execution_count": 53,
   "metadata": {
    "scrolled": true
   },
   "outputs": [
    {
     "name": "stdout",
     "output_type": "stream",
     "text": [
      "              precision    recall  f1-score   support\n",
      "\n",
      "           0       1.00      0.99      1.00      1730\n",
      "           1       0.99      1.00      0.99      1652\n",
      "\n",
      "    accuracy                           0.99      3382\n",
      "   macro avg       0.99      1.00      0.99      3382\n",
      "weighted avg       0.99      0.99      0.99      3382\n",
      "\n"
     ]
    }
   ],
   "source": [
    "print(classification_report(y_test,y_pred))"
   ]
  },
  {
   "cell_type": "code",
   "execution_count": 54,
   "metadata": {},
   "outputs": [
    {
     "data": {
      "text/plain": [
       "Text(69.0, 0.5, 'Truth')"
      ]
     },
     "execution_count": 54,
     "metadata": {},
     "output_type": "execute_result"
    },
    {
     "data": {
      "image/png": "[encoded data removed]",
      "text/plain": [
       "<Figure size 720x504 with 2 Axes>"
      ]
     },
     "metadata": {
      "needs_background": "light"
     },
     "output_type": "display_data"
    }
   ],
   "source": [
    "cm = tf.math.confusion_matrix(labels=y_test,predictions=y_pred)\n",
    "\n",
    "plt.figure(figsize = (10,7))\n",
    "sn.heatmap(cm, annot=True, fmt='d')\n",
    "plt.xlabel('Predicted')\n",
    "plt.ylabel('Truth')"
   ]
  },
  {
   "cell_type": "code",
   "execution_count": 55,
   "metadata": {},
   "outputs": [
    {
     "data": {
      "text/plain": [
       "RandomForestClassifier()"
      ]
     },
     "execution_count": 55,
     "metadata": {},
     "output_type": "execute_result"
    }
   ],
   "source": [
    "#using Random Forest\n",
    "from sklearn.ensemble import RandomForestClassifier\n",
    "rf = RandomForestClassifier()\n",
    "rf.fit(X_train, y_train)"
   ]
  },
  {
   "cell_type": "code",
   "execution_count": 56,
   "metadata": {},
   "outputs": [
    {
     "data": {
      "text/plain": [
       "array([1, 1, 0, ..., 0, 0, 0], dtype=int64)"
      ]
     },
     "execution_count": 56,
     "metadata": {},
     "output_type": "execute_result"
    }
   ],
   "source": [
    "y_pred = rf.predict(X_test)\n",
    "y_pred"
   ]
  },
  {
   "cell_type": "code",
   "execution_count": 57,
   "metadata": {},
   "outputs": [
    {
     "name": "stdout",
     "output_type": "stream",
     "text": [
      "              precision    recall  f1-score   support\n",
      "\n",
      "           0       1.00      0.99      0.99      1730\n",
      "           1       0.99      1.00      0.99      1652\n",
      "\n",
      "    accuracy                           0.99      3382\n",
      "   macro avg       0.99      0.99      0.99      3382\n",
      "weighted avg       0.99      0.99      0.99      3382\n",
      "\n"
     ]
    }
   ],
   "source": [
    "print(classification_report(y_test,y_pred))"
   ]
  },
  {
   "cell_type": "code",
   "execution_count": 58,
   "metadata": {},
   "outputs": [
    {
     "data": {
      "text/plain": [
       "Text(69.0, 0.5, 'Truth')"
      ]
     },
     "execution_count": 58,
     "metadata": {},
     "output_type": "execute_result"
    },
    {
     "data": {
      "image/png": "[encoded data removed]",
      "text/plain": [
       "<Figure size 720x504 with 2 Axes>"
      ]
     },
     "metadata": {
      "needs_background": "light"
     },
     "output_type": "display_data"
    }
   ],
   "source": [
    "cm = tf.math.confusion_matrix(labels=y_test,predictions=y_pred)\n",
    "\n",
    "plt.figure(figsize = (10,7))\n",
    "sn.heatmap(cm, annot=True, fmt='d')\n",
    "plt.xlabel('Predicted')\n",
    "plt.ylabel('Truth')"
   ]
  },
  {
   "cell_type": "markdown",
   "metadata": {},
   "source": [
    "# Question And The Answers\n",
    "\n",
    "\n",
    "\n",
    "### 1. Data cleaning including missing values, outliers and multi-collinearity. \n",
    "\n",
    "\n",
    "#### There was no missing values present in the dataset, when I went through the dataset,it was not balanced. The value count for fraudulent transfer and Legit transfer had a big difference. So I randomly selected a subset of rows from the dataframe(NG) and used label encoders to convert the type feature, then converted the nameOrig & nameDest features to int by removing the character and convert it to numeric, after that to check the feature imporatance scaled the complete features. Here, this is a classification problem so multicolinearity won't be much of an issue ,still I have implemented Decision tree and Random forest in model creation part, so as to eliminate multi-colinearity\n",
    "\n",
    "\n",
    "### 2. Describe your fraud detection model in elaboration. \n",
    "\n",
    "#### I used multiple classification models like logistic regression(90%), naive bayes(74%), svm(91%), Decision tree, Random Forest. out of these model Decision tree and random forest got the highest accuracy on test data. Thus, according to me, my model genaralized multicolinearity. Only naive bayes provided an accuracy(74%) which was low, and I already knew that in my mind.\n",
    "\n",
    "### 3. How did you select variables to be included in the model?\n",
    "\n",
    "#### Irrelevant or partially relevant features can have negative impact on model performance, thus by using feature importance here and plotted these values just for the visualization was enough to understand what are the necessary features. By thinking logically we can understand the important features. The features \"nameOrig\" & \"nameDest\" are just some string values for representing the customers, which has no any significance to our data.\n",
    "\n",
    "### 4. Demonstrate the performance of the model by using best set of tools. \n",
    "\n",
    "\n",
    "#### I applied classification_report method of sklearn.metrics library to evaluate the model. plotted the confusion matrix also to easily understand how well my model is performing.\n",
    "\n",
    "### 5. What are the key factors that predict fraudulent customer? \n",
    "\n",
    "#### The most important factors that predict fraudulent customer are initial balance recipient before the transaction and new balance recipient after the transaction.(oldbalanceDest  and newbalanceDest  ).\n",
    "\n",
    "### 6. Do these factors make sense? If yes, How? If not, How not? \n",
    "\n",
    "#### Yes, they have relevance, as these values are highly correlated to each other. If there is a chance of an account with good initial balance went suddenly to a low balance. Then there is a high chance of that transaction being a fraudulent one.\n",
    "\n",
    "### 7. What kind of prevention should be adopted while company update its infrastructure?\n",
    "\n",
    "#### The company should keep track of account activities more frequently, and there has to be more rules of verification to complete a transaction to reduce such frauds and whenever it finds a huge transaction happened or account got emptied give a special check on that transaction by putting a withrawal limit may hinder these transactions.\n",
    "\n",
    "### 8. Assuming these actions have been implemented, how would you determine if they work?\n",
    "\n",
    "#### Do a checkup on weekly basis find all the fradulent transaction happended in each week and make a summary for the month end. if the fraudulent transaction decreased in each week ,then our actions are working else, we need to update the strategy."
   ]
  },
  {
   "cell_type": "code",
   "execution_count": null,
   "metadata": {},
   "outputs": [],
   "source": []
  }
 ],
 "metadata": {
  "kernelspec": {
   "display_name": "Python 3",
   "language": "python",
   "name": "python3"
  },
  "language_info": {
   "codemirror_mode": {
    "name": "ipython",
    "version": 3
   },
   "file_extension": ".py",
   "mimetype": "text/x-python",
   "name": "python",
   "nbconvert_exporter": "python",
   "pygments_lexer": "ipython3",
   "version": "3.8.3"
  }
 },
 "nbformat": 4,
 "nbformat_minor": 4
}
